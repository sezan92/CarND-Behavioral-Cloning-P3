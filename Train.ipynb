{
 "cells": [
  {
   "cell_type": "markdown",
   "metadata": {},
   "source": [
    "# Behaviour Cloning Project"
   ]
  },
  {
   "cell_type": "markdown",
   "metadata": {},
   "source": [
    ">In this project, I am describing the behaviour cloning of Self Driving Car in Udacity"
   ]
  },
  {
   "cell_type": "code",
   "execution_count": 1,
   "metadata": {},
   "outputs": [
    {
     "name": "stdout",
     "output_type": "stream",
     "text": [
      "WARNING:tensorflow:Deprecation warnings have been disabled. Set TF_ENABLE_DEPRECATION_WARNINGS=1 to re-enable them.\n"
     ]
    },
    {
     "name": "stderr",
     "output_type": "stream",
     "text": [
      "Using TensorFlow backend.\n"
     ]
    },
    {
     "name": "stdout",
     "output_type": "stream",
     "text": [
      "Device mapping:\n",
      "/job:localhost/replica:0/task:0/device:XLA_CPU:0 -> device: XLA_CPU device\n",
      "/job:localhost/replica:0/task:0/device:GPU:0 -> device: 0, name: GeForce RTX 2070 SUPER, pci bus id: 0000:01:00.0, compute capability: 7.5\n",
      "/job:localhost/replica:0/task:0/device:XLA_GPU:0 -> device: XLA_GPU device\n",
      "\n"
     ]
    }
   ],
   "source": [
    "import cv2\n",
    "from keras.models import Sequential\n",
    "from keras import layers\n",
    "from keras.callbacks import EarlyStopping, ModelCheckpoint\n",
    "from keras.backend.tensorflow_backend import set_session\n",
    "from keras.optimizers import rmsprop\n",
    "from keras.regularizers import l2\n",
    "import matplotlib.pyplot as plt\n",
    "import numpy as np\n",
    "import os\n",
    "import pandas as pd\n",
    "from sklearn.model_selection import train_test_split\n",
    "import tensorflow as tf\n",
    "from tensorflow import set_random_seed\n",
    "\n",
    "config = tf.ConfigProto()\n",
    "config.gpu_options.allow_growth = True\n",
    "# dynamically grow the memory used on the GPU\n",
    "config.log_device_placement = True\n",
    "# to log device placement (on which device the operation ran)\n",
    "sess = tf.Session(config=config)\n",
    "set_session(sess)\n"
   ]
  },
  {
   "cell_type": "markdown",
   "metadata": {},
   "source": [
    "Setting seed value of 1"
   ]
  },
  {
   "cell_type": "code",
   "execution_count": 2,
   "metadata": {},
   "outputs": [],
   "source": [
    "SEED = 1\n",
    "np.random.seed(SEED)\n",
    "set_random_seed(SEED)"
   ]
  },
  {
   "cell_type": "markdown",
   "metadata": {},
   "source": [
    "## Utility functions "
   ]
  },
  {
   "cell_type": "code",
   "execution_count": 3,
   "metadata": {},
   "outputs": [],
   "source": [
    "def read_images(batch):\n",
    "    images = [None]*len(batch)\n",
    "    for i,image_name in enumerate(batch):\n",
    "        image = cv2.imread(image_name)\n",
    "        image = cv2.cvtColor(image,cv2.COLOR_BGR2RGB)\n",
    "        images[i] = image\n",
    "    images = np.array(images)\n",
    "    return images\n",
    "    "
   ]
  },
  {
   "cell_type": "markdown",
   "metadata": {},
   "source": [
    "generater of loading data"
   ]
  },
  {
   "cell_type": "code",
   "execution_count": 4,
   "metadata": {},
   "outputs": [],
   "source": [
    "def loader(data,batch_size):\n",
    "    i = 0\n",
    "    while True:\n",
    "        batch = data.iloc[i:i+batch_size]\n",
    "        batch_image_names = batch[\"Center Image\"].values.tolist()\n",
    "        batch_images = read_images(batch_image_names)\n",
    "        steering = batch[\"Steering\"].values.tolist()\n",
    "        i = i+batch_size\n",
    "        if i>= len(data):\n",
    "            i = 0\n",
    "        yield batch_images,steering\n",
    "            "
   ]
  },
  {
   "cell_type": "markdown",
   "metadata": {},
   "source": [
    "### Data folder"
   ]
  },
  {
   "cell_type": "code",
   "execution_count": 5,
   "metadata": {},
   "outputs": [],
   "source": [
    "DATA_FOLDER = \"../data/Simulator/\"\n",
    "normal = os.path.join(DATA_FOLDER,\"CenterLaneDriving\")\n",
    "recovery = os.path.join(DATA_FOLDER,\"RecoveryLap\")\n",
    "recovery2 = os.path.join(DATA_FOLDER,\"RecoveryLap2\")\n",
    "difficult = os.path.join(DATA_FOLDER,\"Difficult\")\n",
    "difficult2 = os.path.join(DATA_FOLDER,\"Difficult2\")\n",
    "difficult_recovery = os.path.join(DATA_FOLDER,\"DifficultRecovery\")"
   ]
  },
  {
   "cell_type": "markdown",
   "metadata": {},
   "source": [
    "Names of the collumns"
   ]
  },
  {
   "cell_type": "code",
   "execution_count": 6,
   "metadata": {},
   "outputs": [],
   "source": [
    "names = [\"Center Image\",\"Left Image\",\"Right Image\",\"Steering\", \"Throttle\", \"Brake\", \"Speed\"]"
   ]
  },
  {
   "cell_type": "markdown",
   "metadata": {},
   "source": [
    "### Driving logs"
   ]
  },
  {
   "cell_type": "code",
   "execution_count": 7,
   "metadata": {},
   "outputs": [],
   "source": [
    "normal_driving_log = pd.read_csv(os.path.join(normal,\"driving_log.csv\"),names = names)"
   ]
  },
  {
   "cell_type": "code",
   "execution_count": 8,
   "metadata": {},
   "outputs": [
    {
     "data": {
      "text/html": [
       "<div>\n",
       "<style scoped>\n",
       "    .dataframe tbody tr th:only-of-type {\n",
       "        vertical-align: middle;\n",
       "    }\n",
       "\n",
       "    .dataframe tbody tr th {\n",
       "        vertical-align: top;\n",
       "    }\n",
       "\n",
       "    .dataframe thead th {\n",
       "        text-align: right;\n",
       "    }\n",
       "</style>\n",
       "<table border=\"1\" class=\"dataframe\">\n",
       "  <thead>\n",
       "    <tr style=\"text-align: right;\">\n",
       "      <th></th>\n",
       "      <th>Center Image</th>\n",
       "      <th>Left Image</th>\n",
       "      <th>Right Image</th>\n",
       "      <th>Steering</th>\n",
       "      <th>Throttle</th>\n",
       "      <th>Brake</th>\n",
       "      <th>Speed</th>\n",
       "    </tr>\n",
       "  </thead>\n",
       "  <tbody>\n",
       "    <tr>\n",
       "      <th>0</th>\n",
       "      <td>/home/sezan/Desktop/work/SelfDrivingCarND/data...</td>\n",
       "      <td>/home/sezan/Desktop/work/SelfDrivingCarND/data...</td>\n",
       "      <td>/home/sezan/Desktop/work/SelfDrivingCarND/data...</td>\n",
       "      <td>0.0</td>\n",
       "      <td>0.000000</td>\n",
       "      <td>0</td>\n",
       "      <td>9.892318</td>\n",
       "    </tr>\n",
       "    <tr>\n",
       "      <th>1</th>\n",
       "      <td>/home/sezan/Desktop/work/SelfDrivingCarND/data...</td>\n",
       "      <td>/home/sezan/Desktop/work/SelfDrivingCarND/data...</td>\n",
       "      <td>/home/sezan/Desktop/work/SelfDrivingCarND/data...</td>\n",
       "      <td>0.0</td>\n",
       "      <td>0.000000</td>\n",
       "      <td>0</td>\n",
       "      <td>9.811010</td>\n",
       "    </tr>\n",
       "    <tr>\n",
       "      <th>2</th>\n",
       "      <td>/home/sezan/Desktop/work/SelfDrivingCarND/data...</td>\n",
       "      <td>/home/sezan/Desktop/work/SelfDrivingCarND/data...</td>\n",
       "      <td>/home/sezan/Desktop/work/SelfDrivingCarND/data...</td>\n",
       "      <td>0.0</td>\n",
       "      <td>0.000000</td>\n",
       "      <td>0</td>\n",
       "      <td>9.750371</td>\n",
       "    </tr>\n",
       "    <tr>\n",
       "      <th>3</th>\n",
       "      <td>/home/sezan/Desktop/work/SelfDrivingCarND/data...</td>\n",
       "      <td>/home/sezan/Desktop/work/SelfDrivingCarND/data...</td>\n",
       "      <td>/home/sezan/Desktop/work/SelfDrivingCarND/data...</td>\n",
       "      <td>0.0</td>\n",
       "      <td>0.000000</td>\n",
       "      <td>0</td>\n",
       "      <td>9.670085</td>\n",
       "    </tr>\n",
       "    <tr>\n",
       "      <th>4</th>\n",
       "      <td>/home/sezan/Desktop/work/SelfDrivingCarND/data...</td>\n",
       "      <td>/home/sezan/Desktop/work/SelfDrivingCarND/data...</td>\n",
       "      <td>/home/sezan/Desktop/work/SelfDrivingCarND/data...</td>\n",
       "      <td>0.0</td>\n",
       "      <td>0.128493</td>\n",
       "      <td>0</td>\n",
       "      <td>9.627087</td>\n",
       "    </tr>\n",
       "  </tbody>\n",
       "</table>\n",
       "</div>"
      ],
      "text/plain": [
       "                                        Center Image  \\\n",
       "0  /home/sezan/Desktop/work/SelfDrivingCarND/data...   \n",
       "1  /home/sezan/Desktop/work/SelfDrivingCarND/data...   \n",
       "2  /home/sezan/Desktop/work/SelfDrivingCarND/data...   \n",
       "3  /home/sezan/Desktop/work/SelfDrivingCarND/data...   \n",
       "4  /home/sezan/Desktop/work/SelfDrivingCarND/data...   \n",
       "\n",
       "                                          Left Image  \\\n",
       "0  /home/sezan/Desktop/work/SelfDrivingCarND/data...   \n",
       "1  /home/sezan/Desktop/work/SelfDrivingCarND/data...   \n",
       "2  /home/sezan/Desktop/work/SelfDrivingCarND/data...   \n",
       "3  /home/sezan/Desktop/work/SelfDrivingCarND/data...   \n",
       "4  /home/sezan/Desktop/work/SelfDrivingCarND/data...   \n",
       "\n",
       "                                         Right Image  Steering  Throttle  \\\n",
       "0  /home/sezan/Desktop/work/SelfDrivingCarND/data...       0.0  0.000000   \n",
       "1  /home/sezan/Desktop/work/SelfDrivingCarND/data...       0.0  0.000000   \n",
       "2  /home/sezan/Desktop/work/SelfDrivingCarND/data...       0.0  0.000000   \n",
       "3  /home/sezan/Desktop/work/SelfDrivingCarND/data...       0.0  0.000000   \n",
       "4  /home/sezan/Desktop/work/SelfDrivingCarND/data...       0.0  0.128493   \n",
       "\n",
       "   Brake     Speed  \n",
       "0      0  9.892318  \n",
       "1      0  9.811010  \n",
       "2      0  9.750371  \n",
       "3      0  9.670085  \n",
       "4      0  9.627087  "
      ]
     },
     "execution_count": 8,
     "metadata": {},
     "output_type": "execute_result"
    }
   ],
   "source": [
    "normal_driving_log.head()"
   ]
  },
  {
   "cell_type": "markdown",
   "metadata": {},
   "source": [
    "Steering angle distribution"
   ]
  },
  {
   "cell_type": "code",
   "execution_count": 9,
   "metadata": {},
   "outputs": [
    {
     "data": {
      "text/plain": [
       "<AxesSubplot:>"
      ]
     },
     "execution_count": 9,
     "metadata": {},
     "output_type": "execute_result"
    },
    {
     "data": {
      "image/png": "[encoded data removed]",
      "text/plain": [
       "<Figure size 432x288 with 1 Axes>"
      ]
     },
     "metadata": {
      "needs_background": "light"
     },
     "output_type": "display_data"
    }
   ],
   "source": [
    "normal_driving_log[\"Steering\"].hist(bins=10)"
   ]
  },
  {
   "cell_type": "markdown",
   "metadata": {},
   "source": [
    "#### Recovery driving log"
   ]
  },
  {
   "cell_type": "code",
   "execution_count": 10,
   "metadata": {},
   "outputs": [],
   "source": [
    "recovery_driving_log = pd.read_csv(os.path.join(recovery,\"driving_log.csv\"),names = names)\n",
    "recovery_driving_log2 = pd.read_csv(os.path.join(recovery2,\"driving_log.csv\"),names = names)"
   ]
  },
  {
   "cell_type": "code",
   "execution_count": 11,
   "metadata": {},
   "outputs": [
    {
     "data": {
      "text/html": [
       "<div>\n",
       "<style scoped>\n",
       "    .dataframe tbody tr th:only-of-type {\n",
       "        vertical-align: middle;\n",
       "    }\n",
       "\n",
       "    .dataframe tbody tr th {\n",
       "        vertical-align: top;\n",
       "    }\n",
       "\n",
       "    .dataframe thead th {\n",
       "        text-align: right;\n",
       "    }\n",
       "</style>\n",
       "<table border=\"1\" class=\"dataframe\">\n",
       "  <thead>\n",
       "    <tr style=\"text-align: right;\">\n",
       "      <th></th>\n",
       "      <th>Center Image</th>\n",
       "      <th>Left Image</th>\n",
       "      <th>Right Image</th>\n",
       "      <th>Steering</th>\n",
       "      <th>Throttle</th>\n",
       "      <th>Brake</th>\n",
       "      <th>Speed</th>\n",
       "    </tr>\n",
       "  </thead>\n",
       "  <tbody>\n",
       "    <tr>\n",
       "      <th>0</th>\n",
       "      <td>/home/sezan/Desktop/work/SelfDrivingCarND/data...</td>\n",
       "      <td>/home/sezan/Desktop/work/SelfDrivingCarND/data...</td>\n",
       "      <td>/home/sezan/Desktop/work/SelfDrivingCarND/data...</td>\n",
       "      <td>0.0</td>\n",
       "      <td>0.0</td>\n",
       "      <td>0.0</td>\n",
       "      <td>3.034396</td>\n",
       "    </tr>\n",
       "    <tr>\n",
       "      <th>1</th>\n",
       "      <td>/home/sezan/Desktop/work/SelfDrivingCarND/data...</td>\n",
       "      <td>/home/sezan/Desktop/work/SelfDrivingCarND/data...</td>\n",
       "      <td>/home/sezan/Desktop/work/SelfDrivingCarND/data...</td>\n",
       "      <td>0.0</td>\n",
       "      <td>0.0</td>\n",
       "      <td>0.0</td>\n",
       "      <td>3.011356</td>\n",
       "    </tr>\n",
       "    <tr>\n",
       "      <th>2</th>\n",
       "      <td>/home/sezan/Desktop/work/SelfDrivingCarND/data...</td>\n",
       "      <td>/home/sezan/Desktop/work/SelfDrivingCarND/data...</td>\n",
       "      <td>/home/sezan/Desktop/work/SelfDrivingCarND/data...</td>\n",
       "      <td>0.0</td>\n",
       "      <td>0.0</td>\n",
       "      <td>0.0</td>\n",
       "      <td>2.988503</td>\n",
       "    </tr>\n",
       "    <tr>\n",
       "      <th>3</th>\n",
       "      <td>/home/sezan/Desktop/work/SelfDrivingCarND/data...</td>\n",
       "      <td>/home/sezan/Desktop/work/SelfDrivingCarND/data...</td>\n",
       "      <td>/home/sezan/Desktop/work/SelfDrivingCarND/data...</td>\n",
       "      <td>0.0</td>\n",
       "      <td>0.0</td>\n",
       "      <td>0.0</td>\n",
       "      <td>2.971483</td>\n",
       "    </tr>\n",
       "    <tr>\n",
       "      <th>4</th>\n",
       "      <td>/home/sezan/Desktop/work/SelfDrivingCarND/data...</td>\n",
       "      <td>/home/sezan/Desktop/work/SelfDrivingCarND/data...</td>\n",
       "      <td>/home/sezan/Desktop/work/SelfDrivingCarND/data...</td>\n",
       "      <td>0.0</td>\n",
       "      <td>0.0</td>\n",
       "      <td>0.0</td>\n",
       "      <td>2.948949</td>\n",
       "    </tr>\n",
       "  </tbody>\n",
       "</table>\n",
       "</div>"
      ],
      "text/plain": [
       "                                        Center Image  \\\n",
       "0  /home/sezan/Desktop/work/SelfDrivingCarND/data...   \n",
       "1  /home/sezan/Desktop/work/SelfDrivingCarND/data...   \n",
       "2  /home/sezan/Desktop/work/SelfDrivingCarND/data...   \n",
       "3  /home/sezan/Desktop/work/SelfDrivingCarND/data...   \n",
       "4  /home/sezan/Desktop/work/SelfDrivingCarND/data...   \n",
       "\n",
       "                                          Left Image  \\\n",
       "0  /home/sezan/Desktop/work/SelfDrivingCarND/data...   \n",
       "1  /home/sezan/Desktop/work/SelfDrivingCarND/data...   \n",
       "2  /home/sezan/Desktop/work/SelfDrivingCarND/data...   \n",
       "3  /home/sezan/Desktop/work/SelfDrivingCarND/data...   \n",
       "4  /home/sezan/Desktop/work/SelfDrivingCarND/data...   \n",
       "\n",
       "                                         Right Image  Steering  Throttle  \\\n",
       "0  /home/sezan/Desktop/work/SelfDrivingCarND/data...       0.0       0.0   \n",
       "1  /home/sezan/Desktop/work/SelfDrivingCarND/data...       0.0       0.0   \n",
       "2  /home/sezan/Desktop/work/SelfDrivingCarND/data...       0.0       0.0   \n",
       "3  /home/sezan/Desktop/work/SelfDrivingCarND/data...       0.0       0.0   \n",
       "4  /home/sezan/Desktop/work/SelfDrivingCarND/data...       0.0       0.0   \n",
       "\n",
       "   Brake     Speed  \n",
       "0    0.0  3.034396  \n",
       "1    0.0  3.011356  \n",
       "2    0.0  2.988503  \n",
       "3    0.0  2.971483  \n",
       "4    0.0  2.948949  "
      ]
     },
     "execution_count": 11,
     "metadata": {},
     "output_type": "execute_result"
    }
   ],
   "source": [
    "recovery_driving_log.head()"
   ]
  },
  {
   "cell_type": "markdown",
   "metadata": {},
   "source": [
    "Recovery driving log distribution"
   ]
  },
  {
   "cell_type": "code",
   "execution_count": 12,
   "metadata": {},
   "outputs": [
    {
     "data": {
      "text/plain": [
       "<AxesSubplot:>"
      ]
     },
     "execution_count": 12,
     "metadata": {},
     "output_type": "execute_result"
    },
    {
     "data": {
      "image/png": "[encoded data removed]",
      "text/plain": [
       "<Figure size 432x288 with 1 Axes>"
      ]
     },
     "metadata": {
      "needs_background": "light"
     },
     "output_type": "display_data"
    }
   ],
   "source": [
    "recovery_driving_log['Steering'].hist()"
   ]
  },
  {
   "cell_type": "markdown",
   "metadata": {},
   "source": [
    "In the Recovery driving, we don't need the normal steering angle. The main purpose is to get the recovery driving which should not have steering angle of 0"
   ]
  },
  {
   "cell_type": "code",
   "execution_count": 13,
   "metadata": {},
   "outputs": [
    {
     "data": {
      "text/plain": [
       "<AxesSubplot:>"
      ]
     },
     "execution_count": 13,
     "metadata": {},
     "output_type": "execute_result"
    },
    {
     "data": {
      "image/png": "[encoded data removed]",
      "text/plain": [
       "<Figure size 432x288 with 1 Axes>"
      ]
     },
     "metadata": {
      "needs_background": "light"
     },
     "output_type": "display_data"
    }
   ],
   "source": [
    "recovery_driving_log[recovery_driving_log[\"Steering\"]!=0.0][\"Steering\"].hist()"
   ]
  },
  {
   "cell_type": "markdown",
   "metadata": {},
   "source": [
    "also for the second recovery driving log"
   ]
  },
  {
   "cell_type": "code",
   "execution_count": 14,
   "metadata": {},
   "outputs": [
    {
     "data": {
      "text/plain": [
       "<AxesSubplot:>"
      ]
     },
     "execution_count": 14,
     "metadata": {},
     "output_type": "execute_result"
    },
    {
     "data": {
      "image/png": "[encoded data removed]",
      "text/plain": [
       "<Figure size 432x288 with 1 Axes>"
      ]
     },
     "metadata": {
      "needs_background": "light"
     },
     "output_type": "display_data"
    }
   ],
   "source": [
    "recovery_driving_log2[recovery_driving_log2[\"Steering\"]!=0.0][\"Steering\"].hist()"
   ]
  },
  {
   "cell_type": "code",
   "execution_count": 15,
   "metadata": {},
   "outputs": [],
   "source": [
    "recovery_driving_log = recovery_driving_log[recovery_driving_log[\"Steering\"]!=0.0]\n",
    "recovery_driving_log2 = recovery_driving_log2[recovery_driving_log2[\"Steering\"]!=0.0]"
   ]
  },
  {
   "cell_type": "markdown",
   "metadata": {},
   "source": [
    "### Normal Track"
   ]
  },
  {
   "cell_type": "code",
   "execution_count": 16,
   "metadata": {},
   "outputs": [],
   "source": [
    "full_driving_log = pd.concat([normal_driving_log,recovery_driving_log,recovery_driving_log2])"
   ]
  },
  {
   "cell_type": "markdown",
   "metadata": {},
   "source": [
    "We need only the `Center Image` and `Steering angle`"
   ]
  },
  {
   "cell_type": "code",
   "execution_count": 17,
   "metadata": {},
   "outputs": [],
   "source": [
    "data = full_driving_log[[\"Center Image\",\"Steering\"]]"
   ]
  },
  {
   "cell_type": "code",
   "execution_count": 18,
   "metadata": {},
   "outputs": [
    {
     "data": {
      "text/plain": [
       "<AxesSubplot:>"
      ]
     },
     "execution_count": 18,
     "metadata": {},
     "output_type": "execute_result"
    },
    {
     "data": {
      "image/png": "[encoded data removed]",
      "text/plain": [
       "<Figure size 432x288 with 1 Axes>"
      ]
     },
     "metadata": {
      "needs_background": "light"
     },
     "output_type": "display_data"
    }
   ],
   "source": [
    "data[\"Steering\"].hist()"
   ]
  },
  {
   "cell_type": "markdown",
   "metadata": {},
   "source": [
    "Most of the steering angles are around `0`. This might bias our model . So I am removing those data"
   ]
  },
  {
   "cell_type": "code",
   "execution_count": 19,
   "metadata": {},
   "outputs": [],
   "source": [
    "data = data[data[\"Steering\"]!=0.0]"
   ]
  },
  {
   "cell_type": "code",
   "execution_count": 20,
   "metadata": {},
   "outputs": [
    {
     "name": "stdout",
     "output_type": "stream",
     "text": [
      "Number of data points: 3674\n"
     ]
    }
   ],
   "source": [
    "print(\"Number of data points: {}\".format(len(data)))"
   ]
  },
  {
   "cell_type": "code",
   "execution_count": 21,
   "metadata": {},
   "outputs": [
    {
     "data": {
      "text/html": [
       "<div>\n",
       "<style scoped>\n",
       "    .dataframe tbody tr th:only-of-type {\n",
       "        vertical-align: middle;\n",
       "    }\n",
       "\n",
       "    .dataframe tbody tr th {\n",
       "        vertical-align: top;\n",
       "    }\n",
       "\n",
       "    .dataframe thead th {\n",
       "        text-align: right;\n",
       "    }\n",
       "</style>\n",
       "<table border=\"1\" class=\"dataframe\">\n",
       "  <thead>\n",
       "    <tr style=\"text-align: right;\">\n",
       "      <th></th>\n",
       "      <th>Center Image</th>\n",
       "      <th>Steering</th>\n",
       "    </tr>\n",
       "  </thead>\n",
       "  <tbody>\n",
       "    <tr>\n",
       "      <th>10</th>\n",
       "      <td>/home/sezan/Desktop/work/SelfDrivingCarND/data...</td>\n",
       "      <td>-0.05</td>\n",
       "    </tr>\n",
       "    <tr>\n",
       "      <th>11</th>\n",
       "      <td>/home/sezan/Desktop/work/SelfDrivingCarND/data...</td>\n",
       "      <td>-0.20</td>\n",
       "    </tr>\n",
       "    <tr>\n",
       "      <th>12</th>\n",
       "      <td>/home/sezan/Desktop/work/SelfDrivingCarND/data...</td>\n",
       "      <td>-0.40</td>\n",
       "    </tr>\n",
       "    <tr>\n",
       "      <th>13</th>\n",
       "      <td>/home/sezan/Desktop/work/SelfDrivingCarND/data...</td>\n",
       "      <td>-0.60</td>\n",
       "    </tr>\n",
       "    <tr>\n",
       "      <th>14</th>\n",
       "      <td>/home/sezan/Desktop/work/SelfDrivingCarND/data...</td>\n",
       "      <td>-0.75</td>\n",
       "    </tr>\n",
       "  </tbody>\n",
       "</table>\n",
       "</div>"
      ],
      "text/plain": [
       "                                         Center Image  Steering\n",
       "10  /home/sezan/Desktop/work/SelfDrivingCarND/data...     -0.05\n",
       "11  /home/sezan/Desktop/work/SelfDrivingCarND/data...     -0.20\n",
       "12  /home/sezan/Desktop/work/SelfDrivingCarND/data...     -0.40\n",
       "13  /home/sezan/Desktop/work/SelfDrivingCarND/data...     -0.60\n",
       "14  /home/sezan/Desktop/work/SelfDrivingCarND/data...     -0.75"
      ]
     },
     "execution_count": 21,
     "metadata": {},
     "output_type": "execute_result"
    }
   ],
   "source": [
    "data.head()"
   ]
  },
  {
   "cell_type": "code",
   "execution_count": 22,
   "metadata": {},
   "outputs": [
    {
     "data": {
      "text/plain": [
       "array([[<AxesSubplot:title={'center':'Steering'}>]], dtype=object)"
      ]
     },
     "execution_count": 22,
     "metadata": {},
     "output_type": "execute_result"
    },
    {
     "data": {
      "image/png": "[encoded data removed]",
      "text/plain": [
       "<Figure size 432x288 with 1 Axes>"
      ]
     },
     "metadata": {
      "needs_background": "light"
     },
     "output_type": "display_data"
    }
   ],
   "source": [
    "data.hist()"
   ]
  },
  {
   "cell_type": "markdown",
   "metadata": {},
   "source": [
    "### Model training and Validation"
   ]
  },
  {
   "cell_type": "markdown",
   "metadata": {},
   "source": [
    "Train test split"
   ]
  },
  {
   "cell_type": "code",
   "execution_count": 23,
   "metadata": {},
   "outputs": [],
   "source": [
    "train,test =train_test_split(data)"
   ]
  },
  {
   "cell_type": "code",
   "execution_count": 24,
   "metadata": {},
   "outputs": [
    {
     "data": {
      "text/plain": [
       "<AxesSubplot:>"
      ]
     },
     "execution_count": 24,
     "metadata": {},
     "output_type": "execute_result"
    },
    {
     "data": {
      "image/png": "[encoded data removed]",
      "text/plain": [
       "<Figure size 432x288 with 1 Axes>"
      ]
     },
     "metadata": {
      "needs_background": "light"
     },
     "output_type": "display_data"
    }
   ],
   "source": [
    "train[\"Steering\"].hist()"
   ]
  },
  {
   "cell_type": "code",
   "execution_count": 25,
   "metadata": {},
   "outputs": [
    {
     "data": {
      "text/plain": [
       "<AxesSubplot:>"
      ]
     },
     "execution_count": 25,
     "metadata": {},
     "output_type": "execute_result"
    },
    {
     "data": {
      "image/png": "[encoded data removed]",
      "text/plain": [
       "<Figure size 432x288 with 1 Axes>"
      ]
     },
     "metadata": {
      "needs_background": "light"
     },
     "output_type": "display_data"
    }
   ],
   "source": [
    "test[\"Steering\"].hist()"
   ]
  },
  {
   "cell_type": "markdown",
   "metadata": {},
   "source": [
    "function for reading images"
   ]
  },
  {
   "cell_type": "markdown",
   "metadata": {},
   "source": [
    "### Model"
   ]
  },
  {
   "cell_type": "markdown",
   "metadata": {},
   "source": [
    "After many iterations I have selected a sequential model based on `Alexnet`. The problem looked simple enough to use this model"
   ]
  },
  {
   "cell_type": "code",
   "execution_count": 26,
   "metadata": {},
   "outputs": [
    {
     "name": "stdout",
     "output_type": "stream",
     "text": [
      "WARNING:tensorflow:From /home/sezan/miniconda3/envs/carnd-term1/lib/python3.6/site-packages/keras/backend/tensorflow_backend.py:63: The name tf.get_default_graph is deprecated. Please use tf.compat.v1.get_default_graph instead.\n",
      "\n",
      "WARNING:tensorflow:From /home/sezan/miniconda3/envs/carnd-term1/lib/python3.6/site-packages/keras/backend/tensorflow_backend.py:488: The name tf.placeholder is deprecated. Please use tf.compat.v1.placeholder instead.\n",
      "\n",
      "WARNING:tensorflow:From /home/sezan/miniconda3/envs/carnd-term1/lib/python3.6/site-packages/keras/backend/tensorflow_backend.py:3626: The name tf.random_uniform is deprecated. Please use tf.random.uniform instead.\n",
      "\n",
      "WARNING:tensorflow:From /home/sezan/miniconda3/envs/carnd-term1/lib/python3.6/site-packages/keras/backend/tensorflow_backend.py:3454: The name tf.nn.max_pool is deprecated. Please use tf.nn.max_pool2d instead.\n",
      "\n",
      "WARNING:tensorflow:From /home/sezan/miniconda3/envs/carnd-term1/lib/python3.6/site-packages/keras/optimizers.py:711: The name tf.train.Optimizer is deprecated. Please use tf.compat.v1.train.Optimizer instead.\n",
      "\n",
      "_________________________________________________________________\n",
      "Layer (type)                 Output Shape              Param #   \n",
      "=================================================================\n",
      "lambda_1 (Lambda)            (None, 160, 320, 3)       0         \n",
      "_________________________________________________________________\n",
      "cropping2d_1 (Cropping2D)    (None, 90, 320, 3)        0         \n",
      "_________________________________________________________________\n",
      "conv2d_1 (Conv2D)            (None, 86, 316, 64)       4864      \n",
      "_________________________________________________________________\n",
      "dropout_1 (Dropout)          (None, 86, 316, 64)       0         \n",
      "_________________________________________________________________\n",
      "max_pooling2d_1 (MaxPooling2 (None, 43, 158, 64)       0         \n",
      "_________________________________________________________________\n",
      "conv2d_2 (Conv2D)            (None, 39, 154, 128)      204928    \n",
      "_________________________________________________________________\n",
      "max_pooling2d_2 (MaxPooling2 (None, 19, 77, 128)       0         \n",
      "_________________________________________________________________\n",
      "conv2d_3 (Conv2D)            (None, 15, 73, 256)       819456    \n",
      "_________________________________________________________________\n",
      "max_pooling2d_3 (MaxPooling2 (None, 7, 36, 256)        0         \n",
      "_________________________________________________________________\n",
      "dropout_2 (Dropout)          (None, 7, 36, 256)        0         \n",
      "_________________________________________________________________\n",
      "flatten_1 (Flatten)          (None, 64512)             0         \n",
      "_________________________________________________________________\n",
      "dense_1 (Dense)              (None, 250)               16128250  \n",
      "_________________________________________________________________\n",
      "dense_2 (Dense)              (None, 120)               30120     \n",
      "_________________________________________________________________\n",
      "dense_3 (Dense)              (None, 84)                10164     \n",
      "_________________________________________________________________\n",
      "dense_4 (Dense)              (None, 1)                 85        \n",
      "=================================================================\n",
      "Total params: 17,197,867\n",
      "Trainable params: 17,197,867\n",
      "Non-trainable params: 0\n",
      "_________________________________________________________________\n"
     ]
    }
   ],
   "source": [
    "model = Sequential()\n",
    "model.add(layers.Lambda(lambda x: x / 255.0, input_shape=(160, 320, 3)))\n",
    "model.add(layers.Cropping2D(cropping=((50, 20), (0, 0))))\n",
    "model.add(\n",
    "    layers.Conv2D(\n",
    "        64, (5, 5), strides=(1, 1), activation=\"relu\", kernel_regularizer=l2(0.01)\n",
    "    )\n",
    ")\n",
    "model.add(layers.Dropout(0.5))\n",
    "model.add(layers.MaxPooling2D(pool_size=2, strides=2))\n",
    "model.add(layers.Conv2D(128, (5, 5), activation=\"relu\", kernel_regularizer=l2(0.01)))\n",
    "model.add(layers.MaxPooling2D((2, 2)))\n",
    "model.add(layers.Conv2D(256, (5, 5), activation=\"relu\", kernel_regularizer=l2(0.01)))\n",
    "model.add(layers.MaxPooling2D((2, 2)))\n",
    "model.add(layers.Dropout(0.5))\n",
    "model.add(layers.Flatten())\n",
    "model.add(layers.Dense(units=250, activation=\"relu\", kernel_regularizer=l2(0.01)))\n",
    "model.add(layers.Dense(units=120, activation=\"relu\", kernel_regularizer=l2(0.01)))\n",
    "model.add(layers.Dense(units=84, activation=\"relu\", kernel_regularizer=l2(0.01)))\n",
    "model.add(layers.Dense(1))\n",
    "model.compile(optimizer=rmsprop(lr=0.0001, rho=0.9), loss=\"mse\")\n",
    "model.summary()"
   ]
  },
  {
   "cell_type": "code",
   "execution_count": 27,
   "metadata": {},
   "outputs": [],
   "source": [
    "train_loader = loader(train,32)\n",
    "test_loader = loader(test,32)"
   ]
  },
  {
   "cell_type": "code",
   "execution_count": 28,
   "metadata": {},
   "outputs": [
    {
     "name": "stdout",
     "output_type": "stream",
     "text": [
      "WARNING:tensorflow:From /home/sezan/miniconda3/envs/carnd-term1/lib/python3.6/site-packages/keras/backend/tensorflow_backend.py:949: The name tf.assign_add is deprecated. Please use tf.compat.v1.assign_add instead.\n",
      "\n",
      "WARNING:tensorflow:From /home/sezan/miniconda3/envs/carnd-term1/lib/python3.6/site-packages/keras/backend/tensorflow_backend.py:936: The name tf.assign is deprecated. Please use tf.compat.v1.assign instead.\n",
      "\n",
      "Epoch 1/50\n",
      "WARNING:tensorflow:From /home/sezan/miniconda3/envs/carnd-term1/lib/python3.6/site-packages/keras/backend/tensorflow_backend.py:158: The name tf.get_default_session is deprecated. Please use tf.compat.v1.get_default_session instead.\n",
      "\n",
      "WARNING:tensorflow:From /home/sezan/miniconda3/envs/carnd-term1/lib/python3.6/site-packages/keras/backend/tensorflow_backend.py:172: The name tf.global_variables is deprecated. Please use tf.compat.v1.global_variables instead.\n",
      "\n",
      "WARNING:tensorflow:From /home/sezan/miniconda3/envs/carnd-term1/lib/python3.6/site-packages/keras/backend/tensorflow_backend.py:180: The name tf.is_variable_initialized is deprecated. Please use tf.compat.v1.is_variable_initialized instead.\n",
      "\n",
      "WARNING:tensorflow:From /home/sezan/miniconda3/envs/carnd-term1/lib/python3.6/site-packages/keras/backend/tensorflow_backend.py:187: The name tf.variables_initializer is deprecated. Please use tf.compat.v1.variables_initializer instead.\n",
      "\n",
      "86/86 [==============================] - 15s 175ms/step - loss: 6.9824 - val_loss: 4.7383\n",
      "Epoch 2/50\n",
      "86/86 [==============================] - 12s 135ms/step - loss: 3.7482 - val_loss: 3.0232\n",
      "Epoch 3/50\n",
      "86/86 [==============================] - 11s 133ms/step - loss: 2.5926 - val_loss: 2.2950\n",
      "Epoch 4/50\n",
      "86/86 [==============================] - 11s 133ms/step - loss: 2.0320 - val_loss: 1.8623\n",
      "Epoch 5/50\n",
      "86/86 [==============================] - 12s 134ms/step - loss: 1.6645 - val_loss: 1.5578\n",
      "Epoch 6/50\n",
      "86/86 [==============================] - 11s 132ms/step - loss: 1.3796 - val_loss: 1.3028\n",
      "Epoch 7/50\n",
      "86/86 [==============================] - 11s 133ms/step - loss: 1.1471 - val_loss: 1.0973\n",
      "Epoch 8/50\n",
      "86/86 [==============================] - 11s 134ms/step - loss: 0.9610 - val_loss: 0.9303\n",
      "Epoch 9/50\n",
      "86/86 [==============================] - 11s 132ms/step - loss: 0.8091 - val_loss: 0.7911\n",
      "Epoch 10/50\n",
      "86/86 [==============================] - 11s 132ms/step - loss: 0.6867 - val_loss: 0.6751\n",
      "Epoch 11/50\n",
      "86/86 [==============================] - 11s 133ms/step - loss: 0.5855 - val_loss: 0.5848\n",
      "Epoch 12/50\n",
      "86/86 [==============================] - 11s 134ms/step - loss: 0.5097 - val_loss: 0.5222\n",
      "Epoch 13/50\n",
      "86/86 [==============================] - 11s 133ms/step - loss: 0.4460 - val_loss: 0.4698\n",
      "Epoch 14/50\n",
      "86/86 [==============================] - 11s 133ms/step - loss: 0.3984 - val_loss: 0.4247\n",
      "Epoch 15/50\n",
      "86/86 [==============================] - 11s 132ms/step - loss: 0.3596 - val_loss: 0.3955\n",
      "Epoch 16/50\n",
      "86/86 [==============================] - 11s 132ms/step - loss: 0.3265 - val_loss: 0.3601\n",
      "Epoch 17/50\n",
      "86/86 [==============================] - 11s 133ms/step - loss: 0.3024 - val_loss: 0.3395\n",
      "Epoch 18/50\n",
      "86/86 [==============================] - 11s 132ms/step - loss: 0.2872 - val_loss: 0.3233\n",
      "Epoch 19/50\n",
      "86/86 [==============================] - 12s 134ms/step - loss: 0.2673 - val_loss: 0.3134\n",
      "Epoch 20/50\n",
      "86/86 [==============================] - 12s 134ms/step - loss: 0.2538 - val_loss: 0.2927\n",
      "Epoch 21/50\n",
      "86/86 [==============================] - 11s 133ms/step - loss: 0.2429 - val_loss: 0.2856\n",
      "Epoch 22/50\n",
      "86/86 [==============================] - 12s 135ms/step - loss: 0.2297 - val_loss: 0.2800\n",
      "Epoch 23/50\n",
      "86/86 [==============================] - 11s 134ms/step - loss: 0.2222 - val_loss: 0.2536\n",
      "Epoch 24/50\n",
      "86/86 [==============================] - 11s 129ms/step - loss: 0.2126 - val_loss: 0.2582\n",
      "Epoch 25/50\n",
      "86/86 [==============================] - 11s 130ms/step - loss: 0.2091 - val_loss: 0.2551\n",
      "Epoch 26/50\n",
      "86/86 [==============================] - 11s 129ms/step - loss: 0.1997 - val_loss: 0.2723\n",
      "Epoch 27/50\n",
      "86/86 [==============================] - 11s 133ms/step - loss: 0.1914 - val_loss: 0.2418\n",
      "Epoch 28/50\n",
      "86/86 [==============================] - 11s 129ms/step - loss: 0.1865 - val_loss: 0.2568\n",
      "Epoch 29/50\n",
      "86/86 [==============================] - 12s 134ms/step - loss: 0.1814 - val_loss: 0.2412\n",
      "Epoch 30/50\n",
      "86/86 [==============================] - 12s 134ms/step - loss: 0.1817 - val_loss: 0.2185\n",
      "Epoch 31/50\n",
      "86/86 [==============================] - 11s 129ms/step - loss: 0.1742 - val_loss: 0.2196\n",
      "Epoch 32/50\n",
      "86/86 [==============================] - 11s 130ms/step - loss: 0.1712 - val_loss: 0.2252\n",
      "Epoch 33/50\n",
      "86/86 [==============================] - 12s 134ms/step - loss: 0.1670 - val_loss: 0.2177\n",
      "Epoch 34/50\n",
      "86/86 [==============================] - 12s 134ms/step - loss: 0.1609 - val_loss: 0.2103\n",
      "Epoch 35/50\n",
      "86/86 [==============================] - 12s 137ms/step - loss: 0.1596 - val_loss: 0.2146\n",
      "Epoch 36/50\n",
      "86/86 [==============================] - 12s 137ms/step - loss: 0.1587 - val_loss: 0.2126\n",
      "Epoch 37/50\n",
      "86/86 [==============================] - 12s 134ms/step - loss: 0.1533 - val_loss: 0.2104\n",
      "Epoch 38/50\n",
      "86/86 [==============================] - 12s 136ms/step - loss: 0.1540 - val_loss: 0.2110\n",
      "Epoch 39/50\n",
      "86/86 [==============================] - 12s 136ms/step - loss: 0.1464 - val_loss: 0.2142\n"
     ]
    }
   ],
   "source": [
    "history = model.fit_generator(train_loader,steps_per_epoch=len(train)//32,validation_data=test_loader,validation_steps=87,epochs=50,\n",
    "                              callbacks=[EarlyStopping(monitor='val_loss',patience=5),\n",
    "                                        ModelCheckpoint('model.h5', save_best_only=True, monitor='val_loss', mode='min')])"
   ]
  },
  {
   "cell_type": "markdown",
   "metadata": {},
   "source": [
    "Let's look at the loss curve"
   ]
  },
  {
   "cell_type": "code",
   "execution_count": 29,
   "metadata": {},
   "outputs": [
    {
     "data": {
      "text/plain": [
       "<matplotlib.legend.Legend at 0x7f91acb34080>"
      ]
     },
     "execution_count": 29,
     "metadata": {},
     "output_type": "execute_result"
    },
    {
     "data": {
      "image/png": "[encoded data removed]",
      "text/plain": [
       "<Figure size 432x288 with 1 Axes>"
      ]
     },
     "metadata": {
      "needs_background": "light"
     },
     "output_type": "display_data"
    }
   ],
   "source": [
    "plt.plot(history.history['loss'],label = 'loss')\n",
    "plt.plot(history.history['val_loss'], label = 'val_loss')\n",
    "plt.legend()\n"
   ]
  },
  {
   "cell_type": "markdown",
   "metadata": {},
   "source": [
    "Perfect!"
   ]
  },
  {
   "cell_type": "markdown",
   "metadata": {},
   "source": [
    "## Difficult track"
   ]
  },
  {
   "cell_type": "markdown",
   "metadata": {},
   "source": [
    "The another track of the simulator is very difficult. I also collected data from that track"
   ]
  },
  {
   "cell_type": "code",
   "execution_count": 30,
   "metadata": {},
   "outputs": [],
   "source": [
    "difficult_driving_log =  pd.read_csv(os.path.join(difficult,\"driving_log.csv\"),names = names)"
   ]
  },
  {
   "cell_type": "code",
   "execution_count": 31,
   "metadata": {},
   "outputs": [
    {
     "data": {
      "text/plain": [
       "<AxesSubplot:>"
      ]
     },
     "execution_count": 31,
     "metadata": {},
     "output_type": "execute_result"
    },
    {
     "data": {
      "image/png": "[encoded data removed]",
      "text/plain": [
       "<Figure size 432x288 with 1 Axes>"
      ]
     },
     "metadata": {
      "needs_background": "light"
     },
     "output_type": "display_data"
    }
   ],
   "source": [
    "difficult_driving_log[\"Steering\"].hist()"
   ]
  },
  {
   "cell_type": "code",
   "execution_count": 32,
   "metadata": {},
   "outputs": [],
   "source": [
    "difficult_driving_log2 = pd.read_csv(os.path.join(difficult2,\"driving_log.csv\"),names = names)"
   ]
  },
  {
   "cell_type": "code",
   "execution_count": 33,
   "metadata": {},
   "outputs": [
    {
     "data": {
      "text/plain": [
       "<AxesSubplot:>"
      ]
     },
     "execution_count": 33,
     "metadata": {},
     "output_type": "execute_result"
    },
    {
     "data": {
      "image/png": "[encoded data removed]",
      "text/plain": [
       "<Figure size 432x288 with 1 Axes>"
      ]
     },
     "metadata": {
      "needs_background": "light"
     },
     "output_type": "display_data"
    }
   ],
   "source": [
    "difficult_driving_log2[\"Steering\"].hist()"
   ]
  },
  {
   "cell_type": "code",
   "execution_count": 34,
   "metadata": {},
   "outputs": [],
   "source": [
    "difficult_recovery = pd.read_csv(os.path.join(difficult_recovery,\"driving_log.csv\"),names = names)"
   ]
  },
  {
   "cell_type": "code",
   "execution_count": 35,
   "metadata": {},
   "outputs": [],
   "source": [
    "full_difficult_driving_log = pd.concat([difficult_driving_log,difficult_driving_log2,difficult_recovery])"
   ]
  },
  {
   "cell_type": "code",
   "execution_count": 36,
   "metadata": {},
   "outputs": [],
   "source": [
    "data = full_difficult_driving_log[[\"Center Image\",\"Steering\"]]"
   ]
  },
  {
   "cell_type": "code",
   "execution_count": 37,
   "metadata": {},
   "outputs": [
    {
     "data": {
      "text/plain": [
       "<AxesSubplot:>"
      ]
     },
     "execution_count": 37,
     "metadata": {},
     "output_type": "execute_result"
    },
    {
     "data": {
      "image/png": "[encoded data removed]",
      "text/plain": [
       "<Figure size 432x288 with 1 Axes>"
      ]
     },
     "metadata": {
      "needs_background": "light"
     },
     "output_type": "display_data"
    }
   ],
   "source": [
    "data[\"Steering\"].hist()"
   ]
  },
  {
   "cell_type": "markdown",
   "metadata": {},
   "source": [
    "Again we see that the values around 0 is too high. So again , I have excluded those values"
   ]
  },
  {
   "cell_type": "code",
   "execution_count": 38,
   "metadata": {},
   "outputs": [],
   "source": [
    "data = data[data[\"Steering\"]!=0.0]"
   ]
  },
  {
   "cell_type": "code",
   "execution_count": 39,
   "metadata": {},
   "outputs": [
    {
     "data": {
      "text/plain": [
       "array([[<AxesSubplot:title={'center':'Steering'}>]], dtype=object)"
      ]
     },
     "execution_count": 39,
     "metadata": {},
     "output_type": "execute_result"
    },
    {
     "data": {
      "image/png": "[encoded data removed]",
      "text/plain": [
       "<Figure size 432x288 with 1 Axes>"
      ]
     },
     "metadata": {
      "needs_background": "light"
     },
     "output_type": "display_data"
    }
   ],
   "source": [
    "data.hist()"
   ]
  },
  {
   "cell_type": "markdown",
   "metadata": {},
   "source": [
    "So, let's train again!"
   ]
  },
  {
   "cell_type": "code",
   "execution_count": 40,
   "metadata": {},
   "outputs": [
    {
     "name": "stdout",
     "output_type": "stream",
     "text": [
      "Number of data points: 4987\n"
     ]
    }
   ],
   "source": [
    "print(\"Number of data points: {}\".format(len(data)))"
   ]
  },
  {
   "cell_type": "code",
   "execution_count": 41,
   "metadata": {},
   "outputs": [],
   "source": [
    "train,test =train_test_split(data)"
   ]
  },
  {
   "cell_type": "markdown",
   "metadata": {},
   "source": [
    "### Model"
   ]
  },
  {
   "cell_type": "code",
   "execution_count": 42,
   "metadata": {},
   "outputs": [
    {
     "name": "stdout",
     "output_type": "stream",
     "text": [
      "_________________________________________________________________\n",
      "Layer (type)                 Output Shape              Param #   \n",
      "=================================================================\n",
      "lambda_2 (Lambda)            (None, 160, 320, 3)       0         \n",
      "_________________________________________________________________\n",
      "cropping2d_2 (Cropping2D)    (None, 90, 320, 3)        0         \n",
      "_________________________________________________________________\n",
      "conv2d_4 (Conv2D)            (None, 86, 316, 64)       4864      \n",
      "_________________________________________________________________\n",
      "dropout_3 (Dropout)          (None, 86, 316, 64)       0         \n",
      "_________________________________________________________________\n",
      "max_pooling2d_4 (MaxPooling2 (None, 43, 158, 64)       0         \n",
      "_________________________________________________________________\n",
      "conv2d_5 (Conv2D)            (None, 39, 154, 128)      204928    \n",
      "_________________________________________________________________\n",
      "max_pooling2d_5 (MaxPooling2 (None, 19, 77, 128)       0         \n",
      "_________________________________________________________________\n",
      "conv2d_6 (Conv2D)            (None, 15, 73, 256)       819456    \n",
      "_________________________________________________________________\n",
      "max_pooling2d_6 (MaxPooling2 (None, 7, 36, 256)        0         \n",
      "_________________________________________________________________\n",
      "dropout_4 (Dropout)          (None, 7, 36, 256)        0         \n",
      "_________________________________________________________________\n",
      "flatten_2 (Flatten)          (None, 64512)             0         \n",
      "_________________________________________________________________\n",
      "dense_5 (Dense)              (None, 250)               16128250  \n",
      "_________________________________________________________________\n",
      "dense_6 (Dense)              (None, 120)               30120     \n",
      "_________________________________________________________________\n",
      "dense_7 (Dense)              (None, 84)                10164     \n",
      "_________________________________________________________________\n",
      "dense_8 (Dense)              (None, 1)                 85        \n",
      "=================================================================\n",
      "Total params: 17,197,867\n",
      "Trainable params: 17,197,867\n",
      "Non-trainable params: 0\n",
      "_________________________________________________________________\n"
     ]
    }
   ],
   "source": [
    "model_difficult = Sequential()\n",
    "model_difficult.add(layers.Lambda(lambda x: x / 255.0, input_shape=(160, 320, 3)))\n",
    "model_difficult.add(layers.Cropping2D(cropping=((50, 20), (0, 0))))\n",
    "model_difficult.add(\n",
    "    layers.Conv2D(\n",
    "        64, (5, 5), strides=(1, 1), activation=\"relu\", kernel_regularizer=l2(0.01)\n",
    "    )\n",
    ")\n",
    "model_difficult.add(layers.Dropout(0.5))\n",
    "model_difficult.add(layers.MaxPooling2D(pool_size=2, strides=2))\n",
    "model_difficult.add(layers.Conv2D(128, (5, 5), activation=\"relu\", kernel_regularizer=l2(0.01)))\n",
    "model_difficult.add(layers.MaxPooling2D((2, 2)))\n",
    "model_difficult.add(layers.Conv2D(256, (5, 5), activation=\"relu\", kernel_regularizer=l2(0.01)))\n",
    "model_difficult.add(layers.MaxPooling2D((2, 2)))\n",
    "model_difficult.add(layers.Dropout(0.5))\n",
    "model_difficult.add(layers.Flatten())\n",
    "model_difficult.add(layers.Dense(units=250, activation=\"relu\", kernel_regularizer=l2(0.01)))\n",
    "model_difficult.add(layers.Dense(units=120, activation=\"relu\", kernel_regularizer=l2(0.01)))\n",
    "model_difficult.add(layers.Dense(units=84, activation=\"relu\", kernel_regularizer=l2(0.01)))\n",
    "model_difficult.add(layers.Dense(1))\n",
    "model_difficult.compile(optimizer=rmsprop(lr=0.0001, rho=0.9), loss=\"mse\")\n",
    "model_difficult.summary()"
   ]
  },
  {
   "cell_type": "code",
   "execution_count": 43,
   "metadata": {},
   "outputs": [],
   "source": [
    "train_loader = loader(train,32)\n",
    "test_loader = loader(test,32)"
   ]
  },
  {
   "cell_type": "code",
   "execution_count": 44,
   "metadata": {},
   "outputs": [
    {
     "name": "stdout",
     "output_type": "stream",
     "text": [
      "Epoch 1/50\n",
      "116/116 [==============================] - 16s 141ms/step - loss: 6.3238 - val_loss: 4.0849\n",
      "Epoch 2/50\n",
      "116/116 [==============================] - 16s 142ms/step - loss: 3.1603 - val_loss: 2.6681\n",
      "Epoch 3/50\n",
      "116/116 [==============================] - 15s 131ms/step - loss: 2.2443 - val_loss: 2.0508\n",
      "Epoch 4/50\n",
      "116/116 [==============================] - 15s 130ms/step - loss: 1.7501 - val_loss: 1.6506\n",
      "Epoch 5/50\n",
      "116/116 [==============================] - 15s 130ms/step - loss: 1.4019 - val_loss: 1.3641\n",
      "Epoch 6/50\n",
      "116/116 [==============================] - 15s 132ms/step - loss: 1.1379 - val_loss: 1.1143\n",
      "Epoch 7/50\n",
      "116/116 [==============================] - 15s 130ms/step - loss: 0.9340 - val_loss: 1.0073\n",
      "Epoch 8/50\n",
      "116/116 [==============================] - 15s 131ms/step - loss: 0.7803 - val_loss: 0.8091\n",
      "Epoch 9/50\n",
      "116/116 [==============================] - 15s 132ms/step - loss: 0.6614 - val_loss: 0.6766\n",
      "Epoch 10/50\n",
      "116/116 [==============================] - 15s 132ms/step - loss: 0.5747 - val_loss: 0.5940\n",
      "Epoch 11/50\n",
      "116/116 [==============================] - 15s 131ms/step - loss: 0.5115 - val_loss: 0.5178\n",
      "Epoch 12/50\n",
      "116/116 [==============================] - 15s 130ms/step - loss: 0.4679 - val_loss: 0.5082\n",
      "Epoch 13/50\n",
      "116/116 [==============================] - 15s 130ms/step - loss: 0.4314 - val_loss: 0.4526\n",
      "Epoch 14/50\n",
      "116/116 [==============================] - 15s 132ms/step - loss: 0.3992 - val_loss: 0.4357\n",
      "Epoch 15/50\n",
      "116/116 [==============================] - 15s 130ms/step - loss: 0.3769 - val_loss: 0.4177\n",
      "Epoch 16/50\n",
      "116/116 [==============================] - 15s 131ms/step - loss: 0.3578 - val_loss: 0.4067\n",
      "Epoch 17/50\n",
      "116/116 [==============================] - 15s 131ms/step - loss: 0.3458 - val_loss: 0.3850\n",
      "Epoch 18/50\n",
      "116/116 [==============================] - 15s 128ms/step - loss: 0.3310 - val_loss: 0.3858\n",
      "Epoch 19/50\n",
      "116/116 [==============================] - 15s 131ms/step - loss: 0.3204 - val_loss: 0.3779\n",
      "Epoch 20/50\n",
      "116/116 [==============================] - 15s 128ms/step - loss: 0.3124 - val_loss: 0.3795\n",
      "Epoch 21/50\n",
      "116/116 [==============================] - 15s 130ms/step - loss: 0.3033 - val_loss: 0.3689\n",
      "Epoch 22/50\n",
      "116/116 [==============================] - 15s 129ms/step - loss: 0.2899 - val_loss: 0.3707\n",
      "Epoch 23/50\n",
      "116/116 [==============================] - 15s 131ms/step - loss: 0.2863 - val_loss: 0.3469\n",
      "Epoch 24/50\n",
      "116/116 [==============================] - 15s 130ms/step - loss: 0.2798 - val_loss: 0.3353\n",
      "Epoch 25/50\n",
      "116/116 [==============================] - 15s 132ms/step - loss: 0.2740 - val_loss: 0.3236\n",
      "Epoch 26/50\n",
      "116/116 [==============================] - 15s 127ms/step - loss: 0.2670 - val_loss: 0.3249\n",
      "Epoch 27/50\n",
      "116/116 [==============================] - 15s 128ms/step - loss: 0.2653 - val_loss: 0.3321\n",
      "Epoch 28/50\n",
      "116/116 [==============================] - 15s 127ms/step - loss: 0.2600 - val_loss: 0.3348\n",
      "Epoch 29/50\n",
      "116/116 [==============================] - 15s 128ms/step - loss: 0.2563 - val_loss: 0.3236\n",
      "Epoch 30/50\n",
      "116/116 [==============================] - 15s 131ms/step - loss: 0.2525 - val_loss: 0.3112\n",
      "Epoch 31/50\n",
      "116/116 [==============================] - 15s 128ms/step - loss: 0.2454 - val_loss: 0.3371\n",
      "Epoch 32/50\n",
      "116/116 [==============================] - 15s 129ms/step - loss: 0.2450 - val_loss: 0.3118\n",
      "Epoch 33/50\n",
      "116/116 [==============================] - 15s 128ms/step - loss: 0.2413 - val_loss: 0.3272\n",
      "Epoch 34/50\n",
      "116/116 [==============================] - 15s 130ms/step - loss: 0.2381 - val_loss: 0.3397\n",
      "Epoch 35/50\n",
      "116/116 [==============================] - 15s 130ms/step - loss: 0.2357 - val_loss: 0.2958\n",
      "Epoch 36/50\n",
      "116/116 [==============================] - 15s 132ms/step - loss: 0.2334 - val_loss: 0.2852\n",
      "Epoch 37/50\n",
      "116/116 [==============================] - 15s 130ms/step - loss: 0.2289 - val_loss: 0.2793\n",
      "Epoch 38/50\n",
      "116/116 [==============================] - 15s 133ms/step - loss: 0.2296 - val_loss: 0.2720\n",
      "Epoch 39/50\n",
      "116/116 [==============================] - 15s 132ms/step - loss: 0.2241 - val_loss: 0.2658\n",
      "Epoch 40/50\n",
      "116/116 [==============================] - 15s 129ms/step - loss: 0.2249 - val_loss: 0.2898\n",
      "Epoch 41/50\n",
      "116/116 [==============================] - 15s 127ms/step - loss: 0.2206 - val_loss: 0.3719\n",
      "Epoch 42/50\n",
      "116/116 [==============================] - 15s 128ms/step - loss: 0.2173 - val_loss: 0.2880\n",
      "Epoch 43/50\n",
      "116/116 [==============================] - 15s 129ms/step - loss: 0.2189 - val_loss: 0.2786\n",
      "Epoch 44/50\n",
      "116/116 [==============================] - 15s 129ms/step - loss: 0.2141 - val_loss: 0.2914\n"
     ]
    }
   ],
   "source": [
    "history = model_difficult.fit_generator(train_loader,steps_per_epoch=len(train)//32,validation_data=test_loader,validation_steps=87,epochs=50,\n",
    "                              callbacks=[EarlyStopping(monitor='val_loss',patience=5),\n",
    "                                        ModelCheckpoint('model_difficult.h5', save_best_only=True, monitor='val_loss', mode='min')])"
   ]
  },
  {
   "cell_type": "code",
   "execution_count": 45,
   "metadata": {},
   "outputs": [
    {
     "data": {
      "text/plain": [
       "<matplotlib.legend.Legend at 0x7f91ac27c710>"
      ]
     },
     "execution_count": 45,
     "metadata": {},
     "output_type": "execute_result"
    },
    {
     "data": {
      "image/png": "[encoded data removed]",
      "text/plain": [
       "<Figure size 432x288 with 1 Axes>"
      ]
     },
     "metadata": {
      "needs_background": "light"
     },
     "output_type": "display_data"
    }
   ],
   "source": [
    "plt.plot(history.history['loss'],label = 'loss')\n",
    "plt.plot(history.history['val_loss'], label = 'val_loss')\n",
    "plt.legend()"
   ]
  },
  {
   "cell_type": "code",
   "execution_count": null,
   "metadata": {},
   "outputs": [],
   "source": []
  }
 ],
 "metadata": {
  "kernelspec": {
   "display_name": "carnd-term1",
   "language": "python",
   "name": "carnd-term1"
  },
  "language_info": {
   "codemirror_mode": {
    "name": "ipython",
    "version": 3
   },
   "file_extension": ".py",
   "mimetype": "text/x-python",
   "name": "python",
   "nbconvert_exporter": "python",
   "pygments_lexer": "ipython3",
   "version": "3.6.5"
  }
 },
 "nbformat": 4,
 "nbformat_minor": 4
}
