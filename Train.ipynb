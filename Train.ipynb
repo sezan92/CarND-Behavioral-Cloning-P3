{
 "cells": [
  {
   "cell_type": "code",
   "execution_count": 1,
   "metadata": {},
   "outputs": [
    {
     "name": "stderr",
     "output_type": "stream",
     "text": [
      "Using TensorFlow backend.\n",
      "/home/sezan/anaconda3/envs/carnd-term1/lib/python3.6/site-packages/tensorflow/python/framework/dtypes.py:516: FutureWarning: Passing (type, 1) or '1type' as a synonym of type is deprecated; in a future version of numpy, it will be understood as (type, (1,)) / '(1,)type'.\n",
      "  _np_qint8 = np.dtype([(\"qint8\", np.int8, 1)])\n",
      "/home/sezan/anaconda3/envs/carnd-term1/lib/python3.6/site-packages/tensorflow/python/framework/dtypes.py:517: FutureWarning: Passing (type, 1) or '1type' as a synonym of type is deprecated; in a future version of numpy, it will be understood as (type, (1,)) / '(1,)type'.\n",
      "  _np_quint8 = np.dtype([(\"quint8\", np.uint8, 1)])\n",
      "/home/sezan/anaconda3/envs/carnd-term1/lib/python3.6/site-packages/tensorflow/python/framework/dtypes.py:518: FutureWarning: Passing (type, 1) or '1type' as a synonym of type is deprecated; in a future version of numpy, it will be understood as (type, (1,)) / '(1,)type'.\n",
      "  _np_qint16 = np.dtype([(\"qint16\", np.int16, 1)])\n",
      "/home/sezan/anaconda3/envs/carnd-term1/lib/python3.6/site-packages/tensorflow/python/framework/dtypes.py:519: FutureWarning: Passing (type, 1) or '1type' as a synonym of type is deprecated; in a future version of numpy, it will be understood as (type, (1,)) / '(1,)type'.\n",
      "  _np_quint16 = np.dtype([(\"quint16\", np.uint16, 1)])\n",
      "/home/sezan/anaconda3/envs/carnd-term1/lib/python3.6/site-packages/tensorflow/python/framework/dtypes.py:520: FutureWarning: Passing (type, 1) or '1type' as a synonym of type is deprecated; in a future version of numpy, it will be understood as (type, (1,)) / '(1,)type'.\n",
      "  _np_qint32 = np.dtype([(\"qint32\", np.int32, 1)])\n",
      "/home/sezan/anaconda3/envs/carnd-term1/lib/python3.6/site-packages/tensorflow/python/framework/dtypes.py:525: FutureWarning: Passing (type, 1) or '1type' as a synonym of type is deprecated; in a future version of numpy, it will be understood as (type, (1,)) / '(1,)type'.\n",
      "  np_resource = np.dtype([(\"resource\", np.ubyte, 1)])\n",
      "/home/sezan/anaconda3/envs/carnd-term1/lib/python3.6/site-packages/tensorboard/compat/tensorflow_stub/dtypes.py:541: FutureWarning: Passing (type, 1) or '1type' as a synonym of type is deprecated; in a future version of numpy, it will be understood as (type, (1,)) / '(1,)type'.\n",
      "  _np_qint8 = np.dtype([(\"qint8\", np.int8, 1)])\n",
      "/home/sezan/anaconda3/envs/carnd-term1/lib/python3.6/site-packages/tensorboard/compat/tensorflow_stub/dtypes.py:542: FutureWarning: Passing (type, 1) or '1type' as a synonym of type is deprecated; in a future version of numpy, it will be understood as (type, (1,)) / '(1,)type'.\n",
      "  _np_quint8 = np.dtype([(\"quint8\", np.uint8, 1)])\n",
      "/home/sezan/anaconda3/envs/carnd-term1/lib/python3.6/site-packages/tensorboard/compat/tensorflow_stub/dtypes.py:543: FutureWarning: Passing (type, 1) or '1type' as a synonym of type is deprecated; in a future version of numpy, it will be understood as (type, (1,)) / '(1,)type'.\n",
      "  _np_qint16 = np.dtype([(\"qint16\", np.int16, 1)])\n",
      "/home/sezan/anaconda3/envs/carnd-term1/lib/python3.6/site-packages/tensorboard/compat/tensorflow_stub/dtypes.py:544: FutureWarning: Passing (type, 1) or '1type' as a synonym of type is deprecated; in a future version of numpy, it will be understood as (type, (1,)) / '(1,)type'.\n",
      "  _np_quint16 = np.dtype([(\"quint16\", np.uint16, 1)])\n",
      "/home/sezan/anaconda3/envs/carnd-term1/lib/python3.6/site-packages/tensorboard/compat/tensorflow_stub/dtypes.py:545: FutureWarning: Passing (type, 1) or '1type' as a synonym of type is deprecated; in a future version of numpy, it will be understood as (type, (1,)) / '(1,)type'.\n",
      "  _np_qint32 = np.dtype([(\"qint32\", np.int32, 1)])\n",
      "/home/sezan/anaconda3/envs/carnd-term1/lib/python3.6/site-packages/tensorboard/compat/tensorflow_stub/dtypes.py:550: FutureWarning: Passing (type, 1) or '1type' as a synonym of type is deprecated; in a future version of numpy, it will be understood as (type, (1,)) / '(1,)type'.\n",
      "  np_resource = np.dtype([(\"resource\", np.ubyte, 1)])\n"
     ]
    }
   ],
   "source": [
    "import pandas as pd\n",
    "import keras\n",
    "from sklearn.model_selection import train_test_split\n",
    "import matplotlib.pyplot as plt\n",
    "import os\n",
    "import cv2\n",
    "import numpy as np"
   ]
  },
  {
   "cell_type": "code",
   "execution_count": 2,
   "metadata": {},
   "outputs": [],
   "source": [
    "import tensorflow\n",
    "from keras.regularizers import l2"
   ]
  },
  {
   "cell_type": "code",
   "execution_count": 3,
   "metadata": {},
   "outputs": [],
   "source": [
    "SEED = 1"
   ]
  },
  {
   "cell_type": "code",
   "execution_count": 4,
   "metadata": {},
   "outputs": [],
   "source": [
    "DATA_FOLDER = \"../data/Simulator/\""
   ]
  },
  {
   "cell_type": "code",
   "execution_count": 5,
   "metadata": {},
   "outputs": [],
   "source": [
    "normal = os.path.join(DATA_FOLDER,\"CenterLaneDriving\")\n",
    "recovery = os.path.join(DATA_FOLDER,\"RecoveryLap\")\n",
    "recovery2 = os.path.join(DATA_FOLDER,\"RecoveryLap2\")\n",
    "difficult = os.path.join(DATA_FOLDER,\"Difficult\")\n",
    "difficult2 = os.path.join(DATA_FOLDER,\"Difficult2\")"
   ]
  },
  {
   "cell_type": "code",
   "execution_count": 6,
   "metadata": {},
   "outputs": [],
   "source": [
    "names = [\"Center Image\",\"Left Image\",\"Right Image\",\"Steering\", \"Throttle\", \"Brake\", \"Speed\"]"
   ]
  },
  {
   "cell_type": "code",
   "execution_count": 7,
   "metadata": {},
   "outputs": [],
   "source": [
    "normal_driving_log = pd.read_csv(os.path.join(normal,\"driving_log.csv\"),names = names)"
   ]
  },
  {
   "cell_type": "code",
   "execution_count": 8,
   "metadata": {},
   "outputs": [
    {
     "data": {
      "text/html": [
       "<div>\n",
       "<style scoped>\n",
       "    .dataframe tbody tr th:only-of-type {\n",
       "        vertical-align: middle;\n",
       "    }\n",
       "\n",
       "    .dataframe tbody tr th {\n",
       "        vertical-align: top;\n",
       "    }\n",
       "\n",
       "    .dataframe thead th {\n",
       "        text-align: right;\n",
       "    }\n",
       "</style>\n",
       "<table border=\"1\" class=\"dataframe\">\n",
       "  <thead>\n",
       "    <tr style=\"text-align: right;\">\n",
       "      <th></th>\n",
       "      <th>Center Image</th>\n",
       "      <th>Left Image</th>\n",
       "      <th>Right Image</th>\n",
       "      <th>Steering</th>\n",
       "      <th>Throttle</th>\n",
       "      <th>Brake</th>\n",
       "      <th>Speed</th>\n",
       "    </tr>\n",
       "  </thead>\n",
       "  <tbody>\n",
       "    <tr>\n",
       "      <th>0</th>\n",
       "      <td>/home/sezan/Desktop/work/SelfDrivingCarND/data...</td>\n",
       "      <td>/home/sezan/Desktop/work/SelfDrivingCarND/data...</td>\n",
       "      <td>/home/sezan/Desktop/work/SelfDrivingCarND/data...</td>\n",
       "      <td>0.0</td>\n",
       "      <td>0.000000</td>\n",
       "      <td>0</td>\n",
       "      <td>9.892318</td>\n",
       "    </tr>\n",
       "    <tr>\n",
       "      <th>1</th>\n",
       "      <td>/home/sezan/Desktop/work/SelfDrivingCarND/data...</td>\n",
       "      <td>/home/sezan/Desktop/work/SelfDrivingCarND/data...</td>\n",
       "      <td>/home/sezan/Desktop/work/SelfDrivingCarND/data...</td>\n",
       "      <td>0.0</td>\n",
       "      <td>0.000000</td>\n",
       "      <td>0</td>\n",
       "      <td>9.811010</td>\n",
       "    </tr>\n",
       "    <tr>\n",
       "      <th>2</th>\n",
       "      <td>/home/sezan/Desktop/work/SelfDrivingCarND/data...</td>\n",
       "      <td>/home/sezan/Desktop/work/SelfDrivingCarND/data...</td>\n",
       "      <td>/home/sezan/Desktop/work/SelfDrivingCarND/data...</td>\n",
       "      <td>0.0</td>\n",
       "      <td>0.000000</td>\n",
       "      <td>0</td>\n",
       "      <td>9.750371</td>\n",
       "    </tr>\n",
       "    <tr>\n",
       "      <th>3</th>\n",
       "      <td>/home/sezan/Desktop/work/SelfDrivingCarND/data...</td>\n",
       "      <td>/home/sezan/Desktop/work/SelfDrivingCarND/data...</td>\n",
       "      <td>/home/sezan/Desktop/work/SelfDrivingCarND/data...</td>\n",
       "      <td>0.0</td>\n",
       "      <td>0.000000</td>\n",
       "      <td>0</td>\n",
       "      <td>9.670085</td>\n",
       "    </tr>\n",
       "    <tr>\n",
       "      <th>4</th>\n",
       "      <td>/home/sezan/Desktop/work/SelfDrivingCarND/data...</td>\n",
       "      <td>/home/sezan/Desktop/work/SelfDrivingCarND/data...</td>\n",
       "      <td>/home/sezan/Desktop/work/SelfDrivingCarND/data...</td>\n",
       "      <td>0.0</td>\n",
       "      <td>0.128493</td>\n",
       "      <td>0</td>\n",
       "      <td>9.627087</td>\n",
       "    </tr>\n",
       "  </tbody>\n",
       "</table>\n",
       "</div>"
      ],
      "text/plain": [
       "                                        Center Image  \\\n",
       "0  /home/sezan/Desktop/work/SelfDrivingCarND/data...   \n",
       "1  /home/sezan/Desktop/work/SelfDrivingCarND/data...   \n",
       "2  /home/sezan/Desktop/work/SelfDrivingCarND/data...   \n",
       "3  /home/sezan/Desktop/work/SelfDrivingCarND/data...   \n",
       "4  /home/sezan/Desktop/work/SelfDrivingCarND/data...   \n",
       "\n",
       "                                          Left Image  \\\n",
       "0  /home/sezan/Desktop/work/SelfDrivingCarND/data...   \n",
       "1  /home/sezan/Desktop/work/SelfDrivingCarND/data...   \n",
       "2  /home/sezan/Desktop/work/SelfDrivingCarND/data...   \n",
       "3  /home/sezan/Desktop/work/SelfDrivingCarND/data...   \n",
       "4  /home/sezan/Desktop/work/SelfDrivingCarND/data...   \n",
       "\n",
       "                                         Right Image  Steering  Throttle  \\\n",
       "0  /home/sezan/Desktop/work/SelfDrivingCarND/data...       0.0  0.000000   \n",
       "1  /home/sezan/Desktop/work/SelfDrivingCarND/data...       0.0  0.000000   \n",
       "2  /home/sezan/Desktop/work/SelfDrivingCarND/data...       0.0  0.000000   \n",
       "3  /home/sezan/Desktop/work/SelfDrivingCarND/data...       0.0  0.000000   \n",
       "4  /home/sezan/Desktop/work/SelfDrivingCarND/data...       0.0  0.128493   \n",
       "\n",
       "   Brake     Speed  \n",
       "0      0  9.892318  \n",
       "1      0  9.811010  \n",
       "2      0  9.750371  \n",
       "3      0  9.670085  \n",
       "4      0  9.627087  "
      ]
     },
     "execution_count": 8,
     "metadata": {},
     "output_type": "execute_result"
    }
   ],
   "source": [
    "normal_driving_log.head()"
   ]
  },
  {
   "cell_type": "code",
   "execution_count": 9,
   "metadata": {},
   "outputs": [
    {
     "data": {
      "text/plain": [
       "<AxesSubplot:>"
      ]
     },
     "execution_count": 9,
     "metadata": {},
     "output_type": "execute_result"
    },
    {
     "data": {
      "image/png": "[encoded data removed]",
      "text/plain": [
       "<Figure size 432x288 with 1 Axes>"
      ]
     },
     "metadata": {
      "needs_background": "light"
     },
     "output_type": "display_data"
    }
   ],
   "source": [
    "normal_driving_log[\"Steering\"].hist(bins=10)"
   ]
  },
  {
   "cell_type": "code",
   "execution_count": 10,
   "metadata": {},
   "outputs": [],
   "source": [
    "recovery_driving_log = pd.read_csv(os.path.join(recovery,\"driving_log.csv\"),names = names)\n",
    "recovery_driving_log2 = pd.read_csv(os.path.join(recovery2,\"driving_log.csv\"),names = names)"
   ]
  },
  {
   "cell_type": "code",
   "execution_count": 11,
   "metadata": {},
   "outputs": [
    {
     "data": {
      "text/html": [
       "<div>\n",
       "<style scoped>\n",
       "    .dataframe tbody tr th:only-of-type {\n",
       "        vertical-align: middle;\n",
       "    }\n",
       "\n",
       "    .dataframe tbody tr th {\n",
       "        vertical-align: top;\n",
       "    }\n",
       "\n",
       "    .dataframe thead th {\n",
       "        text-align: right;\n",
       "    }\n",
       "</style>\n",
       "<table border=\"1\" class=\"dataframe\">\n",
       "  <thead>\n",
       "    <tr style=\"text-align: right;\">\n",
       "      <th></th>\n",
       "      <th>Center Image</th>\n",
       "      <th>Left Image</th>\n",
       "      <th>Right Image</th>\n",
       "      <th>Steering</th>\n",
       "      <th>Throttle</th>\n",
       "      <th>Brake</th>\n",
       "      <th>Speed</th>\n",
       "    </tr>\n",
       "  </thead>\n",
       "  <tbody>\n",
       "    <tr>\n",
       "      <th>0</th>\n",
       "      <td>/home/sezan/Desktop/work/SelfDrivingCarND/data...</td>\n",
       "      <td>/home/sezan/Desktop/work/SelfDrivingCarND/data...</td>\n",
       "      <td>/home/sezan/Desktop/work/SelfDrivingCarND/data...</td>\n",
       "      <td>0.0</td>\n",
       "      <td>0.0</td>\n",
       "      <td>0.0</td>\n",
       "      <td>3.034396</td>\n",
       "    </tr>\n",
       "    <tr>\n",
       "      <th>1</th>\n",
       "      <td>/home/sezan/Desktop/work/SelfDrivingCarND/data...</td>\n",
       "      <td>/home/sezan/Desktop/work/SelfDrivingCarND/data...</td>\n",
       "      <td>/home/sezan/Desktop/work/SelfDrivingCarND/data...</td>\n",
       "      <td>0.0</td>\n",
       "      <td>0.0</td>\n",
       "      <td>0.0</td>\n",
       "      <td>3.011356</td>\n",
       "    </tr>\n",
       "    <tr>\n",
       "      <th>2</th>\n",
       "      <td>/home/sezan/Desktop/work/SelfDrivingCarND/data...</td>\n",
       "      <td>/home/sezan/Desktop/work/SelfDrivingCarND/data...</td>\n",
       "      <td>/home/sezan/Desktop/work/SelfDrivingCarND/data...</td>\n",
       "      <td>0.0</td>\n",
       "      <td>0.0</td>\n",
       "      <td>0.0</td>\n",
       "      <td>2.988503</td>\n",
       "    </tr>\n",
       "    <tr>\n",
       "      <th>3</th>\n",
       "      <td>/home/sezan/Desktop/work/SelfDrivingCarND/data...</td>\n",
       "      <td>/home/sezan/Desktop/work/SelfDrivingCarND/data...</td>\n",
       "      <td>/home/sezan/Desktop/work/SelfDrivingCarND/data...</td>\n",
       "      <td>0.0</td>\n",
       "      <td>0.0</td>\n",
       "      <td>0.0</td>\n",
       "      <td>2.971483</td>\n",
       "    </tr>\n",
       "    <tr>\n",
       "      <th>4</th>\n",
       "      <td>/home/sezan/Desktop/work/SelfDrivingCarND/data...</td>\n",
       "      <td>/home/sezan/Desktop/work/SelfDrivingCarND/data...</td>\n",
       "      <td>/home/sezan/Desktop/work/SelfDrivingCarND/data...</td>\n",
       "      <td>0.0</td>\n",
       "      <td>0.0</td>\n",
       "      <td>0.0</td>\n",
       "      <td>2.948949</td>\n",
       "    </tr>\n",
       "  </tbody>\n",
       "</table>\n",
       "</div>"
      ],
      "text/plain": [
       "                                        Center Image  \\\n",
       "0  /home/sezan/Desktop/work/SelfDrivingCarND/data...   \n",
       "1  /home/sezan/Desktop/work/SelfDrivingCarND/data...   \n",
       "2  /home/sezan/Desktop/work/SelfDrivingCarND/data...   \n",
       "3  /home/sezan/Desktop/work/SelfDrivingCarND/data...   \n",
       "4  /home/sezan/Desktop/work/SelfDrivingCarND/data...   \n",
       "\n",
       "                                          Left Image  \\\n",
       "0  /home/sezan/Desktop/work/SelfDrivingCarND/data...   \n",
       "1  /home/sezan/Desktop/work/SelfDrivingCarND/data...   \n",
       "2  /home/sezan/Desktop/work/SelfDrivingCarND/data...   \n",
       "3  /home/sezan/Desktop/work/SelfDrivingCarND/data...   \n",
       "4  /home/sezan/Desktop/work/SelfDrivingCarND/data...   \n",
       "\n",
       "                                         Right Image  Steering  Throttle  \\\n",
       "0  /home/sezan/Desktop/work/SelfDrivingCarND/data...       0.0       0.0   \n",
       "1  /home/sezan/Desktop/work/SelfDrivingCarND/data...       0.0       0.0   \n",
       "2  /home/sezan/Desktop/work/SelfDrivingCarND/data...       0.0       0.0   \n",
       "3  /home/sezan/Desktop/work/SelfDrivingCarND/data...       0.0       0.0   \n",
       "4  /home/sezan/Desktop/work/SelfDrivingCarND/data...       0.0       0.0   \n",
       "\n",
       "   Brake     Speed  \n",
       "0    0.0  3.034396  \n",
       "1    0.0  3.011356  \n",
       "2    0.0  2.988503  \n",
       "3    0.0  2.971483  \n",
       "4    0.0  2.948949  "
      ]
     },
     "execution_count": 11,
     "metadata": {},
     "output_type": "execute_result"
    }
   ],
   "source": [
    "recovery_driving_log.head()"
   ]
  },
  {
   "cell_type": "code",
   "execution_count": 12,
   "metadata": {},
   "outputs": [
    {
     "data": {
      "text/plain": [
       "<AxesSubplot:>"
      ]
     },
     "execution_count": 12,
     "metadata": {},
     "output_type": "execute_result"
    },
    {
     "data": {
      "image/png": "[encoded data removed]",
      "text/plain": [
       "<Figure size 432x288 with 1 Axes>"
      ]
     },
     "metadata": {
      "needs_background": "light"
     },
     "output_type": "display_data"
    }
   ],
   "source": [
    "recovery_driving_log[recovery_driving_log[\"Steering\"]!=0.0][\"Steering\"].hist()"
   ]
  },
  {
   "cell_type": "code",
   "execution_count": 13,
   "metadata": {},
   "outputs": [
    {
     "data": {
      "text/plain": [
       "<AxesSubplot:>"
      ]
     },
     "execution_count": 13,
     "metadata": {},
     "output_type": "execute_result"
    },
    {
     "data": {
      "image/png": "[encoded data removed]",
      "text/plain": [
       "<Figure size 432x288 with 1 Axes>"
      ]
     },
     "metadata": {
      "needs_background": "light"
     },
     "output_type": "display_data"
    }
   ],
   "source": [
    "recovery_driving_log2[recovery_driving_log2[\"Steering\"]!=0.0][\"Steering\"].hist()"
   ]
  },
  {
   "cell_type": "code",
   "execution_count": 14,
   "metadata": {},
   "outputs": [],
   "source": [
    "recovery_driving_log = recovery_driving_log[recovery_driving_log[\"Steering\"]!=0.0]\n",
    "recovery_driving_log2 = recovery_driving_log2[recovery_driving_log2[\"Steering\"]!=0.0]"
   ]
  },
  {
   "cell_type": "code",
   "execution_count": 15,
   "metadata": {},
   "outputs": [],
   "source": [
    "difficult_driving_log =  pd.read_csv(os.path.join(difficult,\"driving_log.csv\"),names = names)"
   ]
  },
  {
   "cell_type": "code",
   "execution_count": 16,
   "metadata": {},
   "outputs": [
    {
     "data": {
      "text/plain": [
       "<AxesSubplot:>"
      ]
     },
     "execution_count": 16,
     "metadata": {},
     "output_type": "execute_result"
    },
    {
     "data": {
      "image/png": "[encoded data removed]",
      "text/plain": [
       "<Figure size 432x288 with 1 Axes>"
      ]
     },
     "metadata": {
      "needs_background": "light"
     },
     "output_type": "display_data"
    }
   ],
   "source": [
    "difficult_driving_log[\"Steering\"].hist()"
   ]
  },
  {
   "cell_type": "code",
   "execution_count": 17,
   "metadata": {},
   "outputs": [],
   "source": [
    "difficult_driving_log2 = pd.read_csv(os.path.join(difficult2,\"driving_log.csv\"),names = names)"
   ]
  },
  {
   "cell_type": "code",
   "execution_count": 18,
   "metadata": {},
   "outputs": [
    {
     "data": {
      "text/plain": [
       "<AxesSubplot:>"
      ]
     },
     "execution_count": 18,
     "metadata": {},
     "output_type": "execute_result"
    },
    {
     "data": {
      "image/png": "[encoded data removed]",
      "text/plain": [
       "<Figure size 432x288 with 1 Axes>"
      ]
     },
     "metadata": {
      "needs_background": "light"
     },
     "output_type": "display_data"
    }
   ],
   "source": [
    "difficult_driving_log2[\"Steering\"].hist()"
   ]
  },
  {
   "cell_type": "raw",
   "metadata": {},
   "source": [
    "full_driving_log = pd.concat([normal_driving_log,recovery_driving_log,recovery_driving_log2,difficult_driving_log,difficult_driving_log2])"
   ]
  },
  {
   "cell_type": "code",
   "execution_count": 19,
   "metadata": {},
   "outputs": [],
   "source": [
    "full_difficult_driving_log = pd.concat([difficult_driving_log,difficult_driving_log2])"
   ]
  },
  {
   "cell_type": "code",
   "execution_count": 20,
   "metadata": {},
   "outputs": [],
   "source": [
    "data = full_difficult_driving_log[[\"Center Image\",\"Steering\"]]"
   ]
  },
  {
   "cell_type": "code",
   "execution_count": 21,
   "metadata": {},
   "outputs": [
    {
     "data": {
      "text/plain": [
       "<AxesSubplot:>"
      ]
     },
     "execution_count": 21,
     "metadata": {},
     "output_type": "execute_result"
    },
    {
     "data": {
      "image/png": "[encoded data removed]",
      "text/plain": [
       "<Figure size 432x288 with 1 Axes>"
      ]
     },
     "metadata": {
      "needs_background": "light"
     },
     "output_type": "display_data"
    }
   ],
   "source": [
    "data[\"Steering\"].hist()"
   ]
  },
  {
   "cell_type": "raw",
   "metadata": {},
   "source": [
    "data = data[data[\"Steering\"]!=0.0]"
   ]
  },
  {
   "cell_type": "code",
   "execution_count": 22,
   "metadata": {},
   "outputs": [
    {
     "data": {
      "text/html": [
       "<div>\n",
       "<style scoped>\n",
       "    .dataframe tbody tr th:only-of-type {\n",
       "        vertical-align: middle;\n",
       "    }\n",
       "\n",
       "    .dataframe tbody tr th {\n",
       "        vertical-align: top;\n",
       "    }\n",
       "\n",
       "    .dataframe thead th {\n",
       "        text-align: right;\n",
       "    }\n",
       "</style>\n",
       "<table border=\"1\" class=\"dataframe\">\n",
       "  <thead>\n",
       "    <tr style=\"text-align: right;\">\n",
       "      <th></th>\n",
       "      <th>Center Image</th>\n",
       "      <th>Steering</th>\n",
       "    </tr>\n",
       "  </thead>\n",
       "  <tbody>\n",
       "    <tr>\n",
       "      <th>0</th>\n",
       "      <td>/home/sezan/Desktop/work/SelfDrivingCarND/data...</td>\n",
       "      <td>0.0</td>\n",
       "    </tr>\n",
       "    <tr>\n",
       "      <th>1</th>\n",
       "      <td>/home/sezan/Desktop/work/SelfDrivingCarND/data...</td>\n",
       "      <td>0.0</td>\n",
       "    </tr>\n",
       "    <tr>\n",
       "      <th>2</th>\n",
       "      <td>/home/sezan/Desktop/work/SelfDrivingCarND/data...</td>\n",
       "      <td>0.0</td>\n",
       "    </tr>\n",
       "    <tr>\n",
       "      <th>3</th>\n",
       "      <td>/home/sezan/Desktop/work/SelfDrivingCarND/data...</td>\n",
       "      <td>0.0</td>\n",
       "    </tr>\n",
       "    <tr>\n",
       "      <th>4</th>\n",
       "      <td>/home/sezan/Desktop/work/SelfDrivingCarND/data...</td>\n",
       "      <td>0.0</td>\n",
       "    </tr>\n",
       "  </tbody>\n",
       "</table>\n",
       "</div>"
      ],
      "text/plain": [
       "                                        Center Image  Steering\n",
       "0  /home/sezan/Desktop/work/SelfDrivingCarND/data...       0.0\n",
       "1  /home/sezan/Desktop/work/SelfDrivingCarND/data...       0.0\n",
       "2  /home/sezan/Desktop/work/SelfDrivingCarND/data...       0.0\n",
       "3  /home/sezan/Desktop/work/SelfDrivingCarND/data...       0.0\n",
       "4  /home/sezan/Desktop/work/SelfDrivingCarND/data...       0.0"
      ]
     },
     "execution_count": 22,
     "metadata": {},
     "output_type": "execute_result"
    }
   ],
   "source": [
    "data.head()"
   ]
  },
  {
   "cell_type": "code",
   "execution_count": 23,
   "metadata": {},
   "outputs": [],
   "source": [
    "train,test =train_test_split(data)"
   ]
  },
  {
   "cell_type": "code",
   "execution_count": 24,
   "metadata": {},
   "outputs": [
    {
     "data": {
      "text/plain": [
       "<AxesSubplot:>"
      ]
     },
     "execution_count": 24,
     "metadata": {},
     "output_type": "execute_result"
    },
    {
     "data": {
      "image/png": "[encoded data removed]",
      "text/plain": [
       "<Figure size 432x288 with 1 Axes>"
      ]
     },
     "metadata": {
      "needs_background": "light"
     },
     "output_type": "display_data"
    }
   ],
   "source": [
    "train[\"Steering\"].hist()"
   ]
  },
  {
   "cell_type": "code",
   "execution_count": 25,
   "metadata": {},
   "outputs": [
    {
     "data": {
      "text/plain": [
       "<AxesSubplot:>"
      ]
     },
     "execution_count": 25,
     "metadata": {},
     "output_type": "execute_result"
    },
    {
     "data": {
      "image/png": "[encoded data removed]",
      "text/plain": [
       "<Figure size 432x288 with 1 Axes>"
      ]
     },
     "metadata": {
      "needs_background": "light"
     },
     "output_type": "display_data"
    }
   ],
   "source": [
    "test[\"Steering\"].hist()"
   ]
  },
  {
   "cell_type": "code",
   "execution_count": 26,
   "metadata": {},
   "outputs": [],
   "source": [
    "np.random.seed(SEED)\n",
    "from tensorflow import set_random_seed\n",
    "set_random_seed(SEED)"
   ]
  },
  {
   "cell_type": "code",
   "execution_count": 27,
   "metadata": {},
   "outputs": [],
   "source": [
    "def resize_image(images,new_size=(128,128)):\n",
    "    new_image_shape = (images.shape[0],new_size[0],new_size[1],images.shape[3])\n",
    "    resized_images = np.zeros(shape = new_image_shape)\n",
    "    for i,image in enumerate(images):\n",
    "        resized_images[i,:,:,:] = cv2.resize(image,new_size)\n",
    "    return resized_images"
   ]
  },
  {
   "cell_type": "code",
   "execution_count": 28,
   "metadata": {},
   "outputs": [],
   "source": [
    "def preprocess(images,new_size=(128,128)):\n",
    "    images = images[:,60:140,:]\n",
    "    images = images/255\n",
    "    images = resize_image(images,new_size)\n",
    "    return images"
   ]
  },
  {
   "cell_type": "code",
   "execution_count": 29,
   "metadata": {},
   "outputs": [],
   "source": [
    "def read_images(batch):\n",
    "    images = [None]*len(batch)\n",
    "    for i,image_name in enumerate(batch):\n",
    "        image = cv2.imread(image_name)\n",
    "        image = cv2.cvtColor(image,cv2.COLOR_BGR2RGB)\n",
    "        images[i] = image\n",
    "    images = np.array(images)\n",
    "    return images\n",
    "    "
   ]
  },
  {
   "cell_type": "code",
   "execution_count": 30,
   "metadata": {},
   "outputs": [],
   "source": [
    "def loader(data,batch_size):\n",
    "    i = 0\n",
    "    while True:\n",
    "        batch = data.iloc[i:i+batch_size]\n",
    "        batch_image_names = batch[\"Center Image\"].values.tolist()\n",
    "        batch_images = read_images(batch_image_names)\n",
    "        steering = batch[\"Steering\"].values.tolist()\n",
    "        i = i+batch_size\n",
    "        if i>= len(data):\n",
    "            i = 0\n",
    "        yield batch_images,steering\n",
    "            "
   ]
  },
  {
   "cell_type": "code",
   "execution_count": 31,
   "metadata": {},
   "outputs": [],
   "source": [
    "from keras.models import Sequential"
   ]
  },
  {
   "cell_type": "code",
   "execution_count": 32,
   "metadata": {},
   "outputs": [],
   "source": [
    "from keras import layers"
   ]
  },
  {
   "cell_type": "code",
   "execution_count": 33,
   "metadata": {},
   "outputs": [],
   "source": [
    "from keras.callbacks import EarlyStopping, ModelCheckpoint, ReduceLROnPlateau"
   ]
  },
  {
   "cell_type": "code",
   "execution_count": 34,
   "metadata": {},
   "outputs": [
    {
     "name": "stdout",
     "output_type": "stream",
     "text": [
      "WARNING:tensorflow:From /home/sezan/anaconda3/envs/carnd-term1/lib/python3.6/site-packages/keras/backend/tensorflow_backend.py:63: The name tf.get_default_graph is deprecated. Please use tf.compat.v1.get_default_graph instead.\n",
      "\n",
      "WARNING:tensorflow:From /home/sezan/anaconda3/envs/carnd-term1/lib/python3.6/site-packages/keras/backend/tensorflow_backend.py:488: The name tf.placeholder is deprecated. Please use tf.compat.v1.placeholder instead.\n",
      "\n",
      "WARNING:tensorflow:From /home/sezan/anaconda3/envs/carnd-term1/lib/python3.6/site-packages/keras/backend/tensorflow_backend.py:3626: The name tf.random_uniform is deprecated. Please use tf.random.uniform instead.\n",
      "\n",
      "WARNING:tensorflow:From /home/sezan/anaconda3/envs/carnd-term1/lib/python3.6/site-packages/keras/backend/tensorflow_backend.py:1238: calling reduce_sum_v1 (from tensorflow.python.ops.math_ops) with keep_dims is deprecated and will be removed in a future version.\n",
      "Instructions for updating:\n",
      "keep_dims is deprecated, use keepdims instead\n",
      "WARNING:tensorflow:From /home/sezan/anaconda3/envs/carnd-term1/lib/python3.6/site-packages/keras/backend/tensorflow_backend.py:2990: calling dropout (from tensorflow.python.ops.nn_ops) with keep_prob is deprecated and will be removed in a future version.\n",
      "Instructions for updating:\n",
      "Please use `rate` instead of `keep_prob`. Rate should be set to `rate = 1 - keep_prob`.\n",
      "WARNING:tensorflow:From /home/sezan/anaconda3/envs/carnd-term1/lib/python3.6/site-packages/keras/backend/tensorflow_backend.py:3454: The name tf.nn.max_pool is deprecated. Please use tf.nn.max_pool2d instead.\n",
      "\n",
      "WARNING:tensorflow:From /home/sezan/anaconda3/envs/carnd-term1/lib/python3.6/site-packages/keras/backend/tensorflow_backend.py:1255: calling reduce_prod_v1 (from tensorflow.python.ops.math_ops) with keep_dims is deprecated and will be removed in a future version.\n",
      "Instructions for updating:\n",
      "keep_dims is deprecated, use keepdims instead\n"
     ]
    }
   ],
   "source": [
    "model = Sequential()\n",
    "model.add(layers.Lambda(lambda x: x/255.0-0.5, input_shape=(160,320,3)))\n",
    "model.add(layers.Cropping2D(cropping=((50,20),(0,0))))\n",
    "model.add(layers.Conv2D(16, (5, 5),strides=(1,1), activation='relu',kernel_regularizer=l2(0.01)))\n",
    "model.add(layers.Dropout(0.5))\n",
    "model.add(layers.MaxPooling2D(pool_size = 2, strides = 2))\n",
    "model.add(layers.Conv2D(32, (5, 5), activation='relu',kernel_regularizer=l2(0.01)))\n",
    "model.add(layers.MaxPooling2D((2, 2)))\n",
    "model.add(layers.Conv2D(64, (5, 5), activation='relu',kernel_regularizer=l2(0.01)))\n",
    "model.add(layers.MaxPooling2D((2, 2)))\n",
    "model.add(layers.Dropout(0.5))\n",
    "model.add(layers.Flatten())\n",
    "model.add(layers.Dense(units = 120, activation = 'relu',kernel_regularizer=l2(0.01)))\n",
    "model.add(layers.Dense(units = 84, activation = 'relu',kernel_regularizer=l2(0.01)))\n",
    "model.add(layers.Dense(1))\n",
    "# model.add(layers.MaxPooling2D((2, 2)))\n",
    "# model.add(layers.Conv2D(64, (3, 3), activation='relu'))\n",
    "# model.add(layers.MaxPooling2D((2, 2)))\n",
    "# model.add(layers.Conv2D(64, (3, 3), activation='relu'))\n"
   ]
  },
  {
   "cell_type": "code",
   "execution_count": 35,
   "metadata": {},
   "outputs": [
    {
     "name": "stdout",
     "output_type": "stream",
     "text": [
      "WARNING:tensorflow:From /home/sezan/anaconda3/envs/carnd-term1/lib/python3.6/site-packages/keras/optimizers.py:711: The name tf.train.Optimizer is deprecated. Please use tf.compat.v1.train.Optimizer instead.\n",
      "\n"
     ]
    }
   ],
   "source": [
    "model.compile(optimizer = keras.optimizers.rmsprop(lr=0.0001,rho=0.9),loss = 'mse')"
   ]
  },
  {
   "cell_type": "code",
   "execution_count": 36,
   "metadata": {},
   "outputs": [
    {
     "name": "stdout",
     "output_type": "stream",
     "text": [
      "_________________________________________________________________\n",
      "Layer (type)                 Output Shape              Param #   \n",
      "=================================================================\n",
      "lambda_1 (Lambda)            (None, 160, 320, 3)       0         \n",
      "_________________________________________________________________\n",
      "cropping2d_1 (Cropping2D)    (None, 90, 320, 3)        0         \n",
      "_________________________________________________________________\n",
      "conv2d_1 (Conv2D)            (None, 86, 316, 16)       1216      \n",
      "_________________________________________________________________\n",
      "dropout_1 (Dropout)          (None, 86, 316, 16)       0         \n",
      "_________________________________________________________________\n",
      "max_pooling2d_1 (MaxPooling2 (None, 43, 158, 16)       0         \n",
      "_________________________________________________________________\n",
      "conv2d_2 (Conv2D)            (None, 39, 154, 32)       12832     \n",
      "_________________________________________________________________\n",
      "max_pooling2d_2 (MaxPooling2 (None, 19, 77, 32)        0         \n",
      "_________________________________________________________________\n",
      "conv2d_3 (Conv2D)            (None, 15, 73, 64)        51264     \n",
      "_________________________________________________________________\n",
      "max_pooling2d_3 (MaxPooling2 (None, 7, 36, 64)         0         \n",
      "_________________________________________________________________\n",
      "dropout_2 (Dropout)          (None, 7, 36, 64)         0         \n",
      "_________________________________________________________________\n",
      "flatten_1 (Flatten)          (None, 16128)             0         \n",
      "_________________________________________________________________\n",
      "dense_1 (Dense)              (None, 120)               1935480   \n",
      "_________________________________________________________________\n",
      "dense_2 (Dense)              (None, 84)                10164     \n",
      "_________________________________________________________________\n",
      "dense_3 (Dense)              (None, 1)                 85        \n",
      "=================================================================\n",
      "Total params: 2,011,041\n",
      "Trainable params: 2,011,041\n",
      "Non-trainable params: 0\n",
      "_________________________________________________________________\n"
     ]
    }
   ],
   "source": [
    "model.summary()"
   ]
  },
  {
   "cell_type": "code",
   "execution_count": 37,
   "metadata": {},
   "outputs": [],
   "source": [
    "train_loader = loader(train,32)\n",
    "test_loader = loader(test,32)"
   ]
  },
  {
   "cell_type": "code",
   "execution_count": 38,
   "metadata": {},
   "outputs": [
    {
     "name": "stdout",
     "output_type": "stream",
     "text": [
      "WARNING:tensorflow:From /home/sezan/anaconda3/envs/carnd-term1/lib/python3.6/site-packages/keras/backend/tensorflow_backend.py:671: calling Constant.__init__ (from tensorflow.python.ops.init_ops) with dtype is deprecated and will be removed in a future version.\n",
      "Instructions for updating:\n",
      "Call initializer instance with the dtype argument instead of passing it to the constructor\n",
      "WARNING:tensorflow:From /home/sezan/anaconda3/envs/carnd-term1/lib/python3.6/site-packages/keras/backend/tensorflow_backend.py:949: The name tf.assign_add is deprecated. Please use tf.compat.v1.assign_add instead.\n",
      "\n",
      "WARNING:tensorflow:From /home/sezan/anaconda3/envs/carnd-term1/lib/python3.6/site-packages/keras/backend/tensorflow_backend.py:936: The name tf.assign is deprecated. Please use tf.compat.v1.assign instead.\n",
      "\n",
      "Epoch 1/10\n",
      "164/164 [==============================] - 66s 399ms/step - loss: 2.8917 - val_loss: 1.9956\n",
      "Epoch 2/10\n",
      "164/164 [==============================] - 64s 390ms/step - loss: 1.5753 - val_loss: 1.3227\n",
      "Epoch 3/10\n",
      "164/164 [==============================] - 62s 380ms/step - loss: 1.1110 - val_loss: 0.9877\n",
      "Epoch 4/10\n",
      "164/164 [==============================] - 63s 381ms/step - loss: 0.8508 - val_loss: 0.7859\n",
      "Epoch 5/10\n",
      "164/164 [==============================] - 63s 382ms/step - loss: 0.6783 - val_loss: 0.6373\n",
      "Epoch 6/10\n",
      "164/164 [==============================] - 62s 381ms/step - loss: 0.5554 - val_loss: 0.5477\n",
      "Epoch 7/10\n",
      "164/164 [==============================] - 64s 392ms/step - loss: 0.4675 - val_loss: 0.4764\n",
      "Epoch 8/10\n",
      "164/164 [==============================] - 64s 391ms/step - loss: 0.4073 - val_loss: 0.4198\n",
      "Epoch 9/10\n",
      "164/164 [==============================] - 64s 393ms/step - loss: 0.3641 - val_loss: 0.3780\n",
      "Epoch 10/10\n",
      "164/164 [==============================] - 64s 391ms/step - loss: 0.3321 - val_loss: 0.3616\n"
     ]
    }
   ],
   "source": [
    "history = model.fit_generator(train_loader,steps_per_epoch=len(train)//32,validation_data=test_loader,validation_steps=87,epochs=10,\n",
    "                              callbacks=[EarlyStopping(monitor='val_loss',patience=5),\n",
    "                                        ModelCheckpoint('difficult_driving_model.h5', save_best_only=True, monitor='val_loss', mode='min')])"
   ]
  },
  {
   "cell_type": "code",
   "execution_count": 39,
   "metadata": {},
   "outputs": [
    {
     "data": {
      "text/plain": [
       "<matplotlib.legend.Legend at 0x7f952c6e8668>"
      ]
     },
     "execution_count": 39,
     "metadata": {},
     "output_type": "execute_result"
    },
    {
     "data": {
      "image/png": "[encoded data removed]",
      "text/plain": [
       "<Figure size 432x288 with 1 Axes>"
      ]
     },
     "metadata": {
      "needs_background": "light"
     },
     "output_type": "display_data"
    }
   ],
   "source": [
    "plt.plot(history.history['loss'],label = 'loss')\n",
    "plt.plot(history.history['val_loss'], label = 'val_loss')\n",
    "plt.legend()\n"
   ]
  },
  {
   "cell_type": "code",
   "execution_count": null,
   "metadata": {},
   "outputs": [],
   "source": []
  }
 ],
 "metadata": {
  "kernelspec": {
   "display_name": "carnd-term1",
   "language": "python",
   "name": "carnd-term1"
  },
  "language_info": {
   "codemirror_mode": {
    "name": "ipython",
    "version": 3
   },
   "file_extension": ".py",
   "mimetype": "text/x-python",
   "name": "python",
   "nbconvert_exporter": "python",
   "pygments_lexer": "ipython3",
   "version": "3.6.9"
  }
 },
 "nbformat": 4,
 "nbformat_minor": 4
}
