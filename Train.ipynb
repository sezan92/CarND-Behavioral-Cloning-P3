{
 "cells": [
  {
   "cell_type": "code",
   "execution_count": 1,
   "metadata": {},
   "outputs": [
    {
     "name": "stderr",
     "output_type": "stream",
     "text": [
      "Using TensorFlow backend.\n",
      "/home/sezan/anaconda3/envs/carnd-term1/lib/python3.6/site-packages/tensorflow/python/framework/dtypes.py:516: FutureWarning: Passing (type, 1) or '1type' as a synonym of type is deprecated; in a future version of numpy, it will be understood as (type, (1,)) / '(1,)type'.\n",
      "  _np_qint8 = np.dtype([(\"qint8\", np.int8, 1)])\n",
      "/home/sezan/anaconda3/envs/carnd-term1/lib/python3.6/site-packages/tensorflow/python/framework/dtypes.py:517: FutureWarning: Passing (type, 1) or '1type' as a synonym of type is deprecated; in a future version of numpy, it will be understood as (type, (1,)) / '(1,)type'.\n",
      "  _np_quint8 = np.dtype([(\"quint8\", np.uint8, 1)])\n",
      "/home/sezan/anaconda3/envs/carnd-term1/lib/python3.6/site-packages/tensorflow/python/framework/dtypes.py:518: FutureWarning: Passing (type, 1) or '1type' as a synonym of type is deprecated; in a future version of numpy, it will be understood as (type, (1,)) / '(1,)type'.\n",
      "  _np_qint16 = np.dtype([(\"qint16\", np.int16, 1)])\n",
      "/home/sezan/anaconda3/envs/carnd-term1/lib/python3.6/site-packages/tensorflow/python/framework/dtypes.py:519: FutureWarning: Passing (type, 1) or '1type' as a synonym of type is deprecated; in a future version of numpy, it will be understood as (type, (1,)) / '(1,)type'.\n",
      "  _np_quint16 = np.dtype([(\"quint16\", np.uint16, 1)])\n",
      "/home/sezan/anaconda3/envs/carnd-term1/lib/python3.6/site-packages/tensorflow/python/framework/dtypes.py:520: FutureWarning: Passing (type, 1) or '1type' as a synonym of type is deprecated; in a future version of numpy, it will be understood as (type, (1,)) / '(1,)type'.\n",
      "  _np_qint32 = np.dtype([(\"qint32\", np.int32, 1)])\n",
      "/home/sezan/anaconda3/envs/carnd-term1/lib/python3.6/site-packages/tensorflow/python/framework/dtypes.py:525: FutureWarning: Passing (type, 1) or '1type' as a synonym of type is deprecated; in a future version of numpy, it will be understood as (type, (1,)) / '(1,)type'.\n",
      "  np_resource = np.dtype([(\"resource\", np.ubyte, 1)])\n",
      "/home/sezan/anaconda3/envs/carnd-term1/lib/python3.6/site-packages/tensorboard/compat/tensorflow_stub/dtypes.py:541: FutureWarning: Passing (type, 1) or '1type' as a synonym of type is deprecated; in a future version of numpy, it will be understood as (type, (1,)) / '(1,)type'.\n",
      "  _np_qint8 = np.dtype([(\"qint8\", np.int8, 1)])\n",
      "/home/sezan/anaconda3/envs/carnd-term1/lib/python3.6/site-packages/tensorboard/compat/tensorflow_stub/dtypes.py:542: FutureWarning: Passing (type, 1) or '1type' as a synonym of type is deprecated; in a future version of numpy, it will be understood as (type, (1,)) / '(1,)type'.\n",
      "  _np_quint8 = np.dtype([(\"quint8\", np.uint8, 1)])\n",
      "/home/sezan/anaconda3/envs/carnd-term1/lib/python3.6/site-packages/tensorboard/compat/tensorflow_stub/dtypes.py:543: FutureWarning: Passing (type, 1) or '1type' as a synonym of type is deprecated; in a future version of numpy, it will be understood as (type, (1,)) / '(1,)type'.\n",
      "  _np_qint16 = np.dtype([(\"qint16\", np.int16, 1)])\n",
      "/home/sezan/anaconda3/envs/carnd-term1/lib/python3.6/site-packages/tensorboard/compat/tensorflow_stub/dtypes.py:544: FutureWarning: Passing (type, 1) or '1type' as a synonym of type is deprecated; in a future version of numpy, it will be understood as (type, (1,)) / '(1,)type'.\n",
      "  _np_quint16 = np.dtype([(\"quint16\", np.uint16, 1)])\n",
      "/home/sezan/anaconda3/envs/carnd-term1/lib/python3.6/site-packages/tensorboard/compat/tensorflow_stub/dtypes.py:545: FutureWarning: Passing (type, 1) or '1type' as a synonym of type is deprecated; in a future version of numpy, it will be understood as (type, (1,)) / '(1,)type'.\n",
      "  _np_qint32 = np.dtype([(\"qint32\", np.int32, 1)])\n",
      "/home/sezan/anaconda3/envs/carnd-term1/lib/python3.6/site-packages/tensorboard/compat/tensorflow_stub/dtypes.py:550: FutureWarning: Passing (type, 1) or '1type' as a synonym of type is deprecated; in a future version of numpy, it will be understood as (type, (1,)) / '(1,)type'.\n",
      "  np_resource = np.dtype([(\"resource\", np.ubyte, 1)])\n"
     ]
    }
   ],
   "source": [
    "import pandas as pd\n",
    "import keras\n",
    "from sklearn.model_selection import train_test_split\n",
    "import matplotlib.pyplot as plt\n",
    "import os\n",
    "import cv2\n",
    "import numpy as np"
   ]
  },
  {
   "cell_type": "code",
   "execution_count": 2,
   "metadata": {},
   "outputs": [],
   "source": [
    "import tensorflow"
   ]
  },
  {
   "cell_type": "code",
   "execution_count": 3,
   "metadata": {},
   "outputs": [],
   "source": [
    "SEED = 1"
   ]
  },
  {
   "cell_type": "code",
   "execution_count": 4,
   "metadata": {},
   "outputs": [],
   "source": [
    "DATA_FOLDER = \"../data/Simulator/\""
   ]
  },
  {
   "cell_type": "code",
   "execution_count": 15,
   "metadata": {},
   "outputs": [],
   "source": [
    "normal = os.path.join(DATA_FOLDER,\"CenterLaneDriving\")\n",
    "recovery = os.path.join(DATA_FOLDER,\"RecoveryLap\")\n",
    "recovery2 = os.path.join(DATA_FOLDER,\"RecoveryLap2\")\n",
    "difficult = os.path.join(DATA_FOLDER,\"Difficult\")\n",
    "difficult2 = os.path.join(DATA_FOLDER,\"Difficult2\")"
   ]
  },
  {
   "cell_type": "code",
   "execution_count": 16,
   "metadata": {},
   "outputs": [],
   "source": [
    "names = [\"Center Image\",\"Left Image\",\"Right Image\",\"Steering\", \"Throttle\", \"Brake\", \"Speed\"]"
   ]
  },
  {
   "cell_type": "code",
   "execution_count": 17,
   "metadata": {},
   "outputs": [],
   "source": [
    "normal_driving_log = pd.read_csv(os.path.join(normal,\"driving_log.csv\"),names = names)"
   ]
  },
  {
   "cell_type": "code",
   "execution_count": 18,
   "metadata": {},
   "outputs": [
    {
     "data": {
      "text/html": [
       "<div>\n",
       "<style scoped>\n",
       "    .dataframe tbody tr th:only-of-type {\n",
       "        vertical-align: middle;\n",
       "    }\n",
       "\n",
       "    .dataframe tbody tr th {\n",
       "        vertical-align: top;\n",
       "    }\n",
       "\n",
       "    .dataframe thead th {\n",
       "        text-align: right;\n",
       "    }\n",
       "</style>\n",
       "<table border=\"1\" class=\"dataframe\">\n",
       "  <thead>\n",
       "    <tr style=\"text-align: right;\">\n",
       "      <th></th>\n",
       "      <th>Center Image</th>\n",
       "      <th>Left Image</th>\n",
       "      <th>Right Image</th>\n",
       "      <th>Steering</th>\n",
       "      <th>Throttle</th>\n",
       "      <th>Brake</th>\n",
       "      <th>Speed</th>\n",
       "    </tr>\n",
       "  </thead>\n",
       "  <tbody>\n",
       "    <tr>\n",
       "      <th>0</th>\n",
       "      <td>/home/sezan/Desktop/work/SelfDrivingCarND/data...</td>\n",
       "      <td>/home/sezan/Desktop/work/SelfDrivingCarND/data...</td>\n",
       "      <td>/home/sezan/Desktop/work/SelfDrivingCarND/data...</td>\n",
       "      <td>0.0</td>\n",
       "      <td>0.000000</td>\n",
       "      <td>0</td>\n",
       "      <td>9.892318</td>\n",
       "    </tr>\n",
       "    <tr>\n",
       "      <th>1</th>\n",
       "      <td>/home/sezan/Desktop/work/SelfDrivingCarND/data...</td>\n",
       "      <td>/home/sezan/Desktop/work/SelfDrivingCarND/data...</td>\n",
       "      <td>/home/sezan/Desktop/work/SelfDrivingCarND/data...</td>\n",
       "      <td>0.0</td>\n",
       "      <td>0.000000</td>\n",
       "      <td>0</td>\n",
       "      <td>9.811010</td>\n",
       "    </tr>\n",
       "    <tr>\n",
       "      <th>2</th>\n",
       "      <td>/home/sezan/Desktop/work/SelfDrivingCarND/data...</td>\n",
       "      <td>/home/sezan/Desktop/work/SelfDrivingCarND/data...</td>\n",
       "      <td>/home/sezan/Desktop/work/SelfDrivingCarND/data...</td>\n",
       "      <td>0.0</td>\n",
       "      <td>0.000000</td>\n",
       "      <td>0</td>\n",
       "      <td>9.750371</td>\n",
       "    </tr>\n",
       "    <tr>\n",
       "      <th>3</th>\n",
       "      <td>/home/sezan/Desktop/work/SelfDrivingCarND/data...</td>\n",
       "      <td>/home/sezan/Desktop/work/SelfDrivingCarND/data...</td>\n",
       "      <td>/home/sezan/Desktop/work/SelfDrivingCarND/data...</td>\n",
       "      <td>0.0</td>\n",
       "      <td>0.000000</td>\n",
       "      <td>0</td>\n",
       "      <td>9.670085</td>\n",
       "    </tr>\n",
       "    <tr>\n",
       "      <th>4</th>\n",
       "      <td>/home/sezan/Desktop/work/SelfDrivingCarND/data...</td>\n",
       "      <td>/home/sezan/Desktop/work/SelfDrivingCarND/data...</td>\n",
       "      <td>/home/sezan/Desktop/work/SelfDrivingCarND/data...</td>\n",
       "      <td>0.0</td>\n",
       "      <td>0.128493</td>\n",
       "      <td>0</td>\n",
       "      <td>9.627087</td>\n",
       "    </tr>\n",
       "  </tbody>\n",
       "</table>\n",
       "</div>"
      ],
      "text/plain": [
       "                                        Center Image  \\\n",
       "0  /home/sezan/Desktop/work/SelfDrivingCarND/data...   \n",
       "1  /home/sezan/Desktop/work/SelfDrivingCarND/data...   \n",
       "2  /home/sezan/Desktop/work/SelfDrivingCarND/data...   \n",
       "3  /home/sezan/Desktop/work/SelfDrivingCarND/data...   \n",
       "4  /home/sezan/Desktop/work/SelfDrivingCarND/data...   \n",
       "\n",
       "                                          Left Image  \\\n",
       "0  /home/sezan/Desktop/work/SelfDrivingCarND/data...   \n",
       "1  /home/sezan/Desktop/work/SelfDrivingCarND/data...   \n",
       "2  /home/sezan/Desktop/work/SelfDrivingCarND/data...   \n",
       "3  /home/sezan/Desktop/work/SelfDrivingCarND/data...   \n",
       "4  /home/sezan/Desktop/work/SelfDrivingCarND/data...   \n",
       "\n",
       "                                         Right Image  Steering  Throttle  \\\n",
       "0  /home/sezan/Desktop/work/SelfDrivingCarND/data...       0.0  0.000000   \n",
       "1  /home/sezan/Desktop/work/SelfDrivingCarND/data...       0.0  0.000000   \n",
       "2  /home/sezan/Desktop/work/SelfDrivingCarND/data...       0.0  0.000000   \n",
       "3  /home/sezan/Desktop/work/SelfDrivingCarND/data...       0.0  0.000000   \n",
       "4  /home/sezan/Desktop/work/SelfDrivingCarND/data...       0.0  0.128493   \n",
       "\n",
       "   Brake     Speed  \n",
       "0      0  9.892318  \n",
       "1      0  9.811010  \n",
       "2      0  9.750371  \n",
       "3      0  9.670085  \n",
       "4      0  9.627087  "
      ]
     },
     "execution_count": 18,
     "metadata": {},
     "output_type": "execute_result"
    }
   ],
   "source": [
    "normal_driving_log.head()"
   ]
  },
  {
   "cell_type": "code",
   "execution_count": 19,
   "metadata": {},
   "outputs": [
    {
     "data": {
      "text/plain": [
       "<AxesSubplot:>"
      ]
     },
     "execution_count": 19,
     "metadata": {},
     "output_type": "execute_result"
    },
    {
     "data": {
      "image/png": "[encoded data removed]",
      "text/plain": [
       "<Figure size 432x288 with 1 Axes>"
      ]
     },
     "metadata": {
      "needs_background": "light"
     },
     "output_type": "display_data"
    }
   ],
   "source": [
    "normal_driving_log[\"Steering\"].hist(bins=10)"
   ]
  },
  {
   "cell_type": "code",
   "execution_count": 20,
   "metadata": {},
   "outputs": [],
   "source": [
    "recovery_driving_log = pd.read_csv(os.path.join(recovery,\"driving_log.csv\"),names = names)\n",
    "recovery_driving_log2 = pd.read_csv(os.path.join(recovery2,\"driving_log.csv\"),names = names)"
   ]
  },
  {
   "cell_type": "code",
   "execution_count": 21,
   "metadata": {},
   "outputs": [
    {
     "data": {
      "text/html": [
       "<div>\n",
       "<style scoped>\n",
       "    .dataframe tbody tr th:only-of-type {\n",
       "        vertical-align: middle;\n",
       "    }\n",
       "\n",
       "    .dataframe tbody tr th {\n",
       "        vertical-align: top;\n",
       "    }\n",
       "\n",
       "    .dataframe thead th {\n",
       "        text-align: right;\n",
       "    }\n",
       "</style>\n",
       "<table border=\"1\" class=\"dataframe\">\n",
       "  <thead>\n",
       "    <tr style=\"text-align: right;\">\n",
       "      <th></th>\n",
       "      <th>Center Image</th>\n",
       "      <th>Left Image</th>\n",
       "      <th>Right Image</th>\n",
       "      <th>Steering</th>\n",
       "      <th>Throttle</th>\n",
       "      <th>Brake</th>\n",
       "      <th>Speed</th>\n",
       "    </tr>\n",
       "  </thead>\n",
       "  <tbody>\n",
       "    <tr>\n",
       "      <th>0</th>\n",
       "      <td>/home/sezan/Desktop/work/SelfDrivingCarND/data...</td>\n",
       "      <td>/home/sezan/Desktop/work/SelfDrivingCarND/data...</td>\n",
       "      <td>/home/sezan/Desktop/work/SelfDrivingCarND/data...</td>\n",
       "      <td>0.0</td>\n",
       "      <td>0.0</td>\n",
       "      <td>0.0</td>\n",
       "      <td>3.034396</td>\n",
       "    </tr>\n",
       "    <tr>\n",
       "      <th>1</th>\n",
       "      <td>/home/sezan/Desktop/work/SelfDrivingCarND/data...</td>\n",
       "      <td>/home/sezan/Desktop/work/SelfDrivingCarND/data...</td>\n",
       "      <td>/home/sezan/Desktop/work/SelfDrivingCarND/data...</td>\n",
       "      <td>0.0</td>\n",
       "      <td>0.0</td>\n",
       "      <td>0.0</td>\n",
       "      <td>3.011356</td>\n",
       "    </tr>\n",
       "    <tr>\n",
       "      <th>2</th>\n",
       "      <td>/home/sezan/Desktop/work/SelfDrivingCarND/data...</td>\n",
       "      <td>/home/sezan/Desktop/work/SelfDrivingCarND/data...</td>\n",
       "      <td>/home/sezan/Desktop/work/SelfDrivingCarND/data...</td>\n",
       "      <td>0.0</td>\n",
       "      <td>0.0</td>\n",
       "      <td>0.0</td>\n",
       "      <td>2.988503</td>\n",
       "    </tr>\n",
       "    <tr>\n",
       "      <th>3</th>\n",
       "      <td>/home/sezan/Desktop/work/SelfDrivingCarND/data...</td>\n",
       "      <td>/home/sezan/Desktop/work/SelfDrivingCarND/data...</td>\n",
       "      <td>/home/sezan/Desktop/work/SelfDrivingCarND/data...</td>\n",
       "      <td>0.0</td>\n",
       "      <td>0.0</td>\n",
       "      <td>0.0</td>\n",
       "      <td>2.971483</td>\n",
       "    </tr>\n",
       "    <tr>\n",
       "      <th>4</th>\n",
       "      <td>/home/sezan/Desktop/work/SelfDrivingCarND/data...</td>\n",
       "      <td>/home/sezan/Desktop/work/SelfDrivingCarND/data...</td>\n",
       "      <td>/home/sezan/Desktop/work/SelfDrivingCarND/data...</td>\n",
       "      <td>0.0</td>\n",
       "      <td>0.0</td>\n",
       "      <td>0.0</td>\n",
       "      <td>2.948949</td>\n",
       "    </tr>\n",
       "  </tbody>\n",
       "</table>\n",
       "</div>"
      ],
      "text/plain": [
       "                                        Center Image  \\\n",
       "0  /home/sezan/Desktop/work/SelfDrivingCarND/data...   \n",
       "1  /home/sezan/Desktop/work/SelfDrivingCarND/data...   \n",
       "2  /home/sezan/Desktop/work/SelfDrivingCarND/data...   \n",
       "3  /home/sezan/Desktop/work/SelfDrivingCarND/data...   \n",
       "4  /home/sezan/Desktop/work/SelfDrivingCarND/data...   \n",
       "\n",
       "                                          Left Image  \\\n",
       "0  /home/sezan/Desktop/work/SelfDrivingCarND/data...   \n",
       "1  /home/sezan/Desktop/work/SelfDrivingCarND/data...   \n",
       "2  /home/sezan/Desktop/work/SelfDrivingCarND/data...   \n",
       "3  /home/sezan/Desktop/work/SelfDrivingCarND/data...   \n",
       "4  /home/sezan/Desktop/work/SelfDrivingCarND/data...   \n",
       "\n",
       "                                         Right Image  Steering  Throttle  \\\n",
       "0  /home/sezan/Desktop/work/SelfDrivingCarND/data...       0.0       0.0   \n",
       "1  /home/sezan/Desktop/work/SelfDrivingCarND/data...       0.0       0.0   \n",
       "2  /home/sezan/Desktop/work/SelfDrivingCarND/data...       0.0       0.0   \n",
       "3  /home/sezan/Desktop/work/SelfDrivingCarND/data...       0.0       0.0   \n",
       "4  /home/sezan/Desktop/work/SelfDrivingCarND/data...       0.0       0.0   \n",
       "\n",
       "   Brake     Speed  \n",
       "0    0.0  3.034396  \n",
       "1    0.0  3.011356  \n",
       "2    0.0  2.988503  \n",
       "3    0.0  2.971483  \n",
       "4    0.0  2.948949  "
      ]
     },
     "execution_count": 21,
     "metadata": {},
     "output_type": "execute_result"
    }
   ],
   "source": [
    "recovery_driving_log.head()"
   ]
  },
  {
   "cell_type": "code",
   "execution_count": 22,
   "metadata": {},
   "outputs": [
    {
     "data": {
      "text/plain": [
       "<AxesSubplot:>"
      ]
     },
     "execution_count": 22,
     "metadata": {},
     "output_type": "execute_result"
    },
    {
     "data": {
      "image/png": "[encoded data removed]",
      "text/plain": [
       "<Figure size 432x288 with 1 Axes>"
      ]
     },
     "metadata": {
      "needs_background": "light"
     },
     "output_type": "display_data"
    }
   ],
   "source": [
    "recovery_driving_log[recovery_driving_log[\"Steering\"]!=0.0][\"Steering\"].hist()"
   ]
  },
  {
   "cell_type": "code",
   "execution_count": 23,
   "metadata": {},
   "outputs": [
    {
     "data": {
      "text/plain": [
       "<AxesSubplot:>"
      ]
     },
     "execution_count": 23,
     "metadata": {},
     "output_type": "execute_result"
    },
    {
     "data": {
      "image/png": "[encoded data removed]",
      "text/plain": [
       "<Figure size 432x288 with 1 Axes>"
      ]
     },
     "metadata": {
      "needs_background": "light"
     },
     "output_type": "display_data"
    }
   ],
   "source": [
    "recovery_driving_log2[recovery_driving_log2[\"Steering\"]!=0.0][\"Steering\"].hist()"
   ]
  },
  {
   "cell_type": "code",
   "execution_count": 24,
   "metadata": {},
   "outputs": [],
   "source": [
    "recovery_driving_log = recovery_driving_log[recovery_driving_log[\"Steering\"]!=0.0]\n",
    "recovery_driving_log2 = recovery_driving_log2[recovery_driving_log2[\"Steering\"]!=0.0]"
   ]
  },
  {
   "cell_type": "code",
   "execution_count": 25,
   "metadata": {},
   "outputs": [],
   "source": [
    "difficult_driving_log =  pd.read_csv(os.path.join(difficult,\"driving_log.csv\"),names = names)"
   ]
  },
  {
   "cell_type": "code",
   "execution_count": 26,
   "metadata": {},
   "outputs": [
    {
     "data": {
      "text/plain": [
       "<AxesSubplot:>"
      ]
     },
     "execution_count": 26,
     "metadata": {},
     "output_type": "execute_result"
    },
    {
     "data": {
      "image/png": "[encoded data removed]",
      "text/plain": [
       "<Figure size 432x288 with 1 Axes>"
      ]
     },
     "metadata": {
      "needs_background": "light"
     },
     "output_type": "display_data"
    }
   ],
   "source": [
    "difficult_driving_log[\"Steering\"].hist()"
   ]
  },
  {
   "cell_type": "code",
   "execution_count": 27,
   "metadata": {},
   "outputs": [],
   "source": [
    "difficult_driving_log2 = pd.read_csv(os.path.join(difficult2,\"driving_log.csv\"),names = names)"
   ]
  },
  {
   "cell_type": "code",
   "execution_count": 28,
   "metadata": {},
   "outputs": [
    {
     "data": {
      "text/plain": [
       "<AxesSubplot:>"
      ]
     },
     "execution_count": 28,
     "metadata": {},
     "output_type": "execute_result"
    },
    {
     "data": {
      "image/png": "[encoded data removed]",
      "text/plain": [
       "<Figure size 432x288 with 1 Axes>"
      ]
     },
     "metadata": {
      "needs_background": "light"
     },
     "output_type": "display_data"
    }
   ],
   "source": [
    "difficult_driving_log2[\"Steering\"].hist()"
   ]
  },
  {
   "cell_type": "code",
   "execution_count": 29,
   "metadata": {},
   "outputs": [],
   "source": [
    "full_driving_log = pd.concat([normal_driving_log,recovery_driving_log,recovery_driving_log2,difficult_driving_log,difficult_driving_log2])"
   ]
  },
  {
   "cell_type": "code",
   "execution_count": 50,
   "metadata": {},
   "outputs": [],
   "source": [
    "difficult_driving_log = pd.concat([difficult_driving_log,difficult_driving_log2])"
   ]
  },
  {
   "cell_type": "code",
   "execution_count": 51,
   "metadata": {},
   "outputs": [],
   "source": [
    "data = full_driving_log[[\"Center Image\",\"Steering\"]]"
   ]
  },
  {
   "cell_type": "code",
   "execution_count": 52,
   "metadata": {},
   "outputs": [
    {
     "data": {
      "text/plain": [
       "<AxesSubplot:>"
      ]
     },
     "execution_count": 52,
     "metadata": {},
     "output_type": "execute_result"
    },
    {
     "data": {
      "image/png": "[encoded data removed]",
      "text/plain": [
       "<Figure size 432x288 with 1 Axes>"
      ]
     },
     "metadata": {
      "needs_background": "light"
     },
     "output_type": "display_data"
    }
   ],
   "source": [
    "data[\"Steering\"].hist()"
   ]
  },
  {
   "cell_type": "raw",
   "metadata": {},
   "source": [
    "data = data[data[\"Steering\"]!=0.0]"
   ]
  },
  {
   "cell_type": "code",
   "execution_count": 53,
   "metadata": {},
   "outputs": [
    {
     "data": {
      "text/html": [
       "<div>\n",
       "<style scoped>\n",
       "    .dataframe tbody tr th:only-of-type {\n",
       "        vertical-align: middle;\n",
       "    }\n",
       "\n",
       "    .dataframe tbody tr th {\n",
       "        vertical-align: top;\n",
       "    }\n",
       "\n",
       "    .dataframe thead th {\n",
       "        text-align: right;\n",
       "    }\n",
       "</style>\n",
       "<table border=\"1\" class=\"dataframe\">\n",
       "  <thead>\n",
       "    <tr style=\"text-align: right;\">\n",
       "      <th></th>\n",
       "      <th>Center Image</th>\n",
       "      <th>Steering</th>\n",
       "    </tr>\n",
       "  </thead>\n",
       "  <tbody>\n",
       "    <tr>\n",
       "      <th>0</th>\n",
       "      <td>/home/sezan/Desktop/work/SelfDrivingCarND/data...</td>\n",
       "      <td>0.0</td>\n",
       "    </tr>\n",
       "    <tr>\n",
       "      <th>1</th>\n",
       "      <td>/home/sezan/Desktop/work/SelfDrivingCarND/data...</td>\n",
       "      <td>0.0</td>\n",
       "    </tr>\n",
       "    <tr>\n",
       "      <th>2</th>\n",
       "      <td>/home/sezan/Desktop/work/SelfDrivingCarND/data...</td>\n",
       "      <td>0.0</td>\n",
       "    </tr>\n",
       "    <tr>\n",
       "      <th>3</th>\n",
       "      <td>/home/sezan/Desktop/work/SelfDrivingCarND/data...</td>\n",
       "      <td>0.0</td>\n",
       "    </tr>\n",
       "    <tr>\n",
       "      <th>4</th>\n",
       "      <td>/home/sezan/Desktop/work/SelfDrivingCarND/data...</td>\n",
       "      <td>0.0</td>\n",
       "    </tr>\n",
       "  </tbody>\n",
       "</table>\n",
       "</div>"
      ],
      "text/plain": [
       "                                        Center Image  Steering\n",
       "0  /home/sezan/Desktop/work/SelfDrivingCarND/data...       0.0\n",
       "1  /home/sezan/Desktop/work/SelfDrivingCarND/data...       0.0\n",
       "2  /home/sezan/Desktop/work/SelfDrivingCarND/data...       0.0\n",
       "3  /home/sezan/Desktop/work/SelfDrivingCarND/data...       0.0\n",
       "4  /home/sezan/Desktop/work/SelfDrivingCarND/data...       0.0"
      ]
     },
     "execution_count": 53,
     "metadata": {},
     "output_type": "execute_result"
    }
   ],
   "source": [
    "data.head()"
   ]
  },
  {
   "cell_type": "code",
   "execution_count": 54,
   "metadata": {},
   "outputs": [],
   "source": [
    "train,test =train_test_split(data)"
   ]
  },
  {
   "cell_type": "code",
   "execution_count": 55,
   "metadata": {},
   "outputs": [
    {
     "data": {
      "text/plain": [
       "<AxesSubplot:>"
      ]
     },
     "execution_count": 55,
     "metadata": {},
     "output_type": "execute_result"
    },
    {
     "data": {
      "image/png": "[encoded data removed]",
      "text/plain": [
       "<Figure size 432x288 with 1 Axes>"
      ]
     },
     "metadata": {
      "needs_background": "light"
     },
     "output_type": "display_data"
    }
   ],
   "source": [
    "train[\"Steering\"].hist()"
   ]
  },
  {
   "cell_type": "code",
   "execution_count": 56,
   "metadata": {},
   "outputs": [
    {
     "data": {
      "text/plain": [
       "<AxesSubplot:>"
      ]
     },
     "execution_count": 56,
     "metadata": {},
     "output_type": "execute_result"
    },
    {
     "data": {
      "image/png": "[encoded data removed]",
      "text/plain": [
       "<Figure size 432x288 with 1 Axes>"
      ]
     },
     "metadata": {
      "needs_background": "light"
     },
     "output_type": "display_data"
    }
   ],
   "source": [
    "test[\"Steering\"].hist()"
   ]
  },
  {
   "cell_type": "code",
   "execution_count": 57,
   "metadata": {},
   "outputs": [],
   "source": [
    "np.random.seed(SEED)\n",
    "from tensorflow import set_random_seed\n",
    "set_random_seed(SEED)"
   ]
  },
  {
   "cell_type": "code",
   "execution_count": 58,
   "metadata": {},
   "outputs": [],
   "source": [
    "def resize_image(images,new_size=(128,128)):\n",
    "    new_image_shape = (images.shape[0],new_size[0],new_size[1],images.shape[3])\n",
    "    resized_images = np.zeros(shape = new_image_shape)\n",
    "    for i,image in enumerate(images):\n",
    "        resized_images[i,:,:,:] = cv2.resize(image,new_size)\n",
    "    return resized_images"
   ]
  },
  {
   "cell_type": "code",
   "execution_count": 59,
   "metadata": {},
   "outputs": [],
   "source": [
    "def preprocess(images,new_size=(128,128)):\n",
    "    images = images[:,60:140,:]\n",
    "    images = images/255\n",
    "    images = resize_image(images,new_size)\n",
    "    return images"
   ]
  },
  {
   "cell_type": "code",
   "execution_count": 60,
   "metadata": {},
   "outputs": [],
   "source": [
    "def read_images(batch):\n",
    "    images = [None]*len(batch)\n",
    "    for i,image_name in enumerate(batch):\n",
    "        image = cv2.imread(image_name)\n",
    "        image = cv2.cvtColor(image,cv2.COLOR_BGR2RGB)\n",
    "        images[i] = image\n",
    "    images = np.array(images)\n",
    "    return images\n",
    "    "
   ]
  },
  {
   "cell_type": "code",
   "execution_count": 61,
   "metadata": {},
   "outputs": [],
   "source": [
    "def loader(data,batch_size):\n",
    "    i = 0\n",
    "    while True:\n",
    "        batch = data.iloc[i:i+batch_size]\n",
    "        batch_image_names = batch[\"Center Image\"].values.tolist()\n",
    "        batch_images = read_images(batch_image_names)\n",
    "        steering = batch[\"Steering\"].values.tolist()\n",
    "        i = i+batch_size\n",
    "        if i>= len(data):\n",
    "            i = 0\n",
    "        yield batch_images,steering\n",
    "            "
   ]
  },
  {
   "cell_type": "code",
   "execution_count": 62,
   "metadata": {},
   "outputs": [],
   "source": [
    "from keras.models import Sequential"
   ]
  },
  {
   "cell_type": "code",
   "execution_count": 63,
   "metadata": {},
   "outputs": [],
   "source": [
    "from keras import layers"
   ]
  },
  {
   "cell_type": "code",
   "execution_count": 64,
   "metadata": {},
   "outputs": [],
   "source": [
    "from keras.callbacks import EarlyStopping, ModelCheckpoint, ReduceLROnPlateau"
   ]
  },
  {
   "cell_type": "code",
   "execution_count": 65,
   "metadata": {},
   "outputs": [],
   "source": [
    "model = Sequential()\n",
    "model.add(layers.Lambda(lambda x: x/255.0-0.5, input_shape=(160,320,3)))\n",
    "model.add(layers.Cropping2D(cropping=((50,20),(0,0))))\n",
    "model.add(layers.Conv2D(16, (5, 5),strides=(1,1), activation='relu'))\n",
    "model.add(layers.Dropout(0.5))\n",
    "model.add(layers.MaxPooling2D(pool_size = 2, strides = 2))\n",
    "model.add(layers.Flatten())\n",
    "model.add(layers.Dense(units = 120, activation = 'relu'))\n",
    "model.add(layers.Dense(units = 84, activation = 'relu'))\n",
    "model.add(layers.Dense(1))\n",
    "# model.add(layers.MaxPooling2D((2, 2)))\n",
    "# model.add(layers.Conv2D(64, (3, 3), activation='relu'))\n",
    "# model.add(layers.MaxPooling2D((2, 2)))\n",
    "# model.add(layers.Conv2D(64, (3, 3), activation='relu'))\n"
   ]
  },
  {
   "cell_type": "code",
   "execution_count": 66,
   "metadata": {},
   "outputs": [],
   "source": [
    "model.compile(optimizer = keras.optimizers.rmsprop(lr=0.0001,rho=0.9),loss = 'mse')"
   ]
  },
  {
   "cell_type": "code",
   "execution_count": 67,
   "metadata": {},
   "outputs": [
    {
     "name": "stdout",
     "output_type": "stream",
     "text": [
      "_________________________________________________________________\n",
      "Layer (type)                 Output Shape              Param #   \n",
      "=================================================================\n",
      "lambda_2 (Lambda)            (None, 160, 320, 3)       0         \n",
      "_________________________________________________________________\n",
      "cropping2d_2 (Cropping2D)    (None, 90, 320, 3)        0         \n",
      "_________________________________________________________________\n",
      "conv2d_2 (Conv2D)            (None, 86, 316, 16)       1216      \n",
      "_________________________________________________________________\n",
      "dropout_2 (Dropout)          (None, 86, 316, 16)       0         \n",
      "_________________________________________________________________\n",
      "max_pooling2d_2 (MaxPooling2 (None, 43, 158, 16)       0         \n",
      "_________________________________________________________________\n",
      "flatten_2 (Flatten)          (None, 108704)            0         \n",
      "_________________________________________________________________\n",
      "dense_4 (Dense)              (None, 120)               13044600  \n",
      "_________________________________________________________________\n",
      "dense_5 (Dense)              (None, 84)                10164     \n",
      "_________________________________________________________________\n",
      "dense_6 (Dense)              (None, 1)                 85        \n",
      "=================================================================\n",
      "Total params: 13,056,065\n",
      "Trainable params: 13,056,065\n",
      "Non-trainable params: 0\n",
      "_________________________________________________________________\n"
     ]
    }
   ],
   "source": [
    "model.summary()"
   ]
  },
  {
   "cell_type": "code",
   "execution_count": 68,
   "metadata": {},
   "outputs": [],
   "source": [
    "train_loader = loader(train,32)\n",
    "test_loader = loader(test,32)"
   ]
  },
  {
   "cell_type": "code",
   "execution_count": 69,
   "metadata": {},
   "outputs": [
    {
     "name": "stdout",
     "output_type": "stream",
     "text": [
      "Epoch 1/10\n",
      "328/328 [==============================] - 84s 257ms/step - loss: 0.3521 - val_loss: 0.1134\n",
      "Epoch 2/10\n",
      "328/328 [==============================] - 85s 261ms/step - loss: 0.0945 - val_loss: 0.0994\n",
      "Epoch 3/10\n",
      "328/328 [==============================] - 88s 268ms/step - loss: 0.0687 - val_loss: 0.1014\n",
      "Epoch 4/10\n",
      "328/328 [==============================] - 84s 256ms/step - loss: 0.0505 - val_loss: 0.0976\n",
      "Epoch 5/10\n",
      "328/328 [==============================] - 85s 258ms/step - loss: 0.0382 - val_loss: 0.0915\n",
      "Epoch 6/10\n",
      "328/328 [==============================] - 84s 256ms/step - loss: 0.0302 - val_loss: 0.0880\n",
      "Epoch 7/10\n",
      "328/328 [==============================] - 84s 256ms/step - loss: 0.0240 - val_loss: 0.0880\n",
      "Epoch 8/10\n",
      "328/328 [==============================] - 84s 256ms/step - loss: 0.0199 - val_loss: 0.0876\n",
      "Epoch 9/10\n",
      "328/328 [==============================] - 84s 256ms/step - loss: 0.0164 - val_loss: 0.0894\n",
      "Epoch 10/10\n",
      "328/328 [==============================] - 84s 256ms/step - loss: 0.0143 - val_loss: 0.0863\n"
     ]
    }
   ],
   "source": [
    "history = model.fit_generator(train_loader,steps_per_epoch=len(train)//32,validation_data=test_loader,validation_steps=87,epochs=10,\n",
    "                              callbacks=[EarlyStopping(monitor='val_loss',patience=5),\n",
    "                                        ModelCheckpoint('difficult_driving_model.h5', save_best_only=True, monitor='val_loss', mode='min')])"
   ]
  },
  {
   "cell_type": "code",
   "execution_count": 70,
   "metadata": {},
   "outputs": [
    {
     "data": {
      "text/plain": [
       "<matplotlib.legend.Legend at 0x7f1eb927fd30>"
      ]
     },
     "execution_count": 70,
     "metadata": {},
     "output_type": "execute_result"
    },
    {
     "data": {
      "image/png": "[encoded data removed]",
      "text/plain": [
       "<Figure size 432x288 with 1 Axes>"
      ]
     },
     "metadata": {
      "needs_background": "light"
     },
     "output_type": "display_data"
    }
   ],
   "source": [
    "plt.plot(history.history['loss'],label = 'loss')\n",
    "plt.plot(history.history['val_loss'], label = 'val_loss')\n",
    "plt.legend()\n"
   ]
  },
  {
   "cell_type": "code",
   "execution_count": null,
   "metadata": {},
   "outputs": [],
   "source": []
  }
 ],
 "metadata": {
  "kernelspec": {
   "display_name": "carnd-term1",
   "language": "python",
   "name": "carnd-term1"
  },
  "language_info": {
   "codemirror_mode": {
    "name": "ipython",
    "version": 3
   },
   "file_extension": ".py",
   "mimetype": "text/x-python",
   "name": "python",
   "nbconvert_exporter": "python",
   "pygments_lexer": "ipython3",
   "version": "3.6.9"
  }
 },
 "nbformat": 4,
 "nbformat_minor": 4
}
