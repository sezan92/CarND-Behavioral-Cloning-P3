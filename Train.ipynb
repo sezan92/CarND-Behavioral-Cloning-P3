{
 "cells": [
  {
   "cell_type": "code",
   "execution_count": 1,
   "metadata": {},
   "outputs": [],
   "source": [
    "import pandas as pd"
   ]
  },
  {
   "cell_type": "code",
   "execution_count": 2,
   "metadata": {},
   "outputs": [
    {
     "name": "stderr",
     "output_type": "stream",
     "text": [
      "/home/sezan/anaconda3/envs/tf1.14/lib/python3.6/site-packages/tensorflow/python/framework/dtypes.py:516: FutureWarning: Passing (type, 1) or '1type' as a synonym of type is deprecated; in a future version of numpy, it will be understood as (type, (1,)) / '(1,)type'.\n",
      "  _np_qint8 = np.dtype([(\"qint8\", np.int8, 1)])\n",
      "/home/sezan/anaconda3/envs/tf1.14/lib/python3.6/site-packages/tensorflow/python/framework/dtypes.py:517: FutureWarning: Passing (type, 1) or '1type' as a synonym of type is deprecated; in a future version of numpy, it will be understood as (type, (1,)) / '(1,)type'.\n",
      "  _np_quint8 = np.dtype([(\"quint8\", np.uint8, 1)])\n",
      "/home/sezan/anaconda3/envs/tf1.14/lib/python3.6/site-packages/tensorflow/python/framework/dtypes.py:518: FutureWarning: Passing (type, 1) or '1type' as a synonym of type is deprecated; in a future version of numpy, it will be understood as (type, (1,)) / '(1,)type'.\n",
      "  _np_qint16 = np.dtype([(\"qint16\", np.int16, 1)])\n",
      "/home/sezan/anaconda3/envs/tf1.14/lib/python3.6/site-packages/tensorflow/python/framework/dtypes.py:519: FutureWarning: Passing (type, 1) or '1type' as a synonym of type is deprecated; in a future version of numpy, it will be understood as (type, (1,)) / '(1,)type'.\n",
      "  _np_quint16 = np.dtype([(\"quint16\", np.uint16, 1)])\n",
      "/home/sezan/anaconda3/envs/tf1.14/lib/python3.6/site-packages/tensorflow/python/framework/dtypes.py:520: FutureWarning: Passing (type, 1) or '1type' as a synonym of type is deprecated; in a future version of numpy, it will be understood as (type, (1,)) / '(1,)type'.\n",
      "  _np_qint32 = np.dtype([(\"qint32\", np.int32, 1)])\n",
      "/home/sezan/anaconda3/envs/tf1.14/lib/python3.6/site-packages/tensorflow/python/framework/dtypes.py:525: FutureWarning: Passing (type, 1) or '1type' as a synonym of type is deprecated; in a future version of numpy, it will be understood as (type, (1,)) / '(1,)type'.\n",
      "  np_resource = np.dtype([(\"resource\", np.ubyte, 1)])\n",
      "/home/sezan/anaconda3/envs/tf1.14/lib/python3.6/site-packages/tensorboard/compat/tensorflow_stub/dtypes.py:541: FutureWarning: Passing (type, 1) or '1type' as a synonym of type is deprecated; in a future version of numpy, it will be understood as (type, (1,)) / '(1,)type'.\n",
      "  _np_qint8 = np.dtype([(\"qint8\", np.int8, 1)])\n",
      "/home/sezan/anaconda3/envs/tf1.14/lib/python3.6/site-packages/tensorboard/compat/tensorflow_stub/dtypes.py:542: FutureWarning: Passing (type, 1) or '1type' as a synonym of type is deprecated; in a future version of numpy, it will be understood as (type, (1,)) / '(1,)type'.\n",
      "  _np_quint8 = np.dtype([(\"quint8\", np.uint8, 1)])\n",
      "/home/sezan/anaconda3/envs/tf1.14/lib/python3.6/site-packages/tensorboard/compat/tensorflow_stub/dtypes.py:543: FutureWarning: Passing (type, 1) or '1type' as a synonym of type is deprecated; in a future version of numpy, it will be understood as (type, (1,)) / '(1,)type'.\n",
      "  _np_qint16 = np.dtype([(\"qint16\", np.int16, 1)])\n",
      "/home/sezan/anaconda3/envs/tf1.14/lib/python3.6/site-packages/tensorboard/compat/tensorflow_stub/dtypes.py:544: FutureWarning: Passing (type, 1) or '1type' as a synonym of type is deprecated; in a future version of numpy, it will be understood as (type, (1,)) / '(1,)type'.\n",
      "  _np_quint16 = np.dtype([(\"quint16\", np.uint16, 1)])\n",
      "/home/sezan/anaconda3/envs/tf1.14/lib/python3.6/site-packages/tensorboard/compat/tensorflow_stub/dtypes.py:545: FutureWarning: Passing (type, 1) or '1type' as a synonym of type is deprecated; in a future version of numpy, it will be understood as (type, (1,)) / '(1,)type'.\n",
      "  _np_qint32 = np.dtype([(\"qint32\", np.int32, 1)])\n",
      "/home/sezan/anaconda3/envs/tf1.14/lib/python3.6/site-packages/tensorboard/compat/tensorflow_stub/dtypes.py:550: FutureWarning: Passing (type, 1) or '1type' as a synonym of type is deprecated; in a future version of numpy, it will be understood as (type, (1,)) / '(1,)type'.\n",
      "  np_resource = np.dtype([(\"resource\", np.ubyte, 1)])\n"
     ]
    }
   ],
   "source": [
    "import tensorflow as tf"
   ]
  },
  {
   "cell_type": "code",
   "execution_count": 3,
   "metadata": {},
   "outputs": [
    {
     "name": "stderr",
     "output_type": "stream",
     "text": [
      "Using TensorFlow backend.\n"
     ]
    }
   ],
   "source": [
    "import keras"
   ]
  },
  {
   "cell_type": "code",
   "execution_count": 17,
   "metadata": {},
   "outputs": [],
   "source": [
    "from sklearn.model_selection import train_test_split"
   ]
  },
  {
   "cell_type": "code",
   "execution_count": 44,
   "metadata": {},
   "outputs": [],
   "source": [
    "import matplotlib.pyplot as plt"
   ]
  },
  {
   "cell_type": "code",
   "execution_count": 4,
   "metadata": {},
   "outputs": [],
   "source": [
    "import os\n",
    "import cv2\n",
    "import numpy as np"
   ]
  },
  {
   "cell_type": "code",
   "execution_count": 5,
   "metadata": {},
   "outputs": [],
   "source": [
    "DATA_FOLDER = \"../data/Simulator/\""
   ]
  },
  {
   "cell_type": "code",
   "execution_count": 6,
   "metadata": {},
   "outputs": [],
   "source": [
    "normal = os.path.join(DATA_FOLDER,\"CenterLaneDriving\")\n",
    "recovery = os.path.join(DATA_FOLDER,\"RecoveryLap\")\n",
    "difficult = os.path.join(DATA_FOLDER,\"Difficult\")"
   ]
  },
  {
   "cell_type": "code",
   "execution_count": 7,
   "metadata": {},
   "outputs": [],
   "source": [
    "names = [\"Center Image\",\"Left Image\",\"Right Image\",\"Steering\", \"Throttle\", \"Brake\", \"Speed\"]"
   ]
  },
  {
   "cell_type": "code",
   "execution_count": 8,
   "metadata": {},
   "outputs": [],
   "source": [
    "normal_driving_log = pd.read_csv(os.path.join(normal,\"driving_log.csv\"),names = names)"
   ]
  },
  {
   "cell_type": "code",
   "execution_count": 9,
   "metadata": {},
   "outputs": [
    {
     "data": {
      "text/html": [
       "<div>\n",
       "<style scoped>\n",
       "    .dataframe tbody tr th:only-of-type {\n",
       "        vertical-align: middle;\n",
       "    }\n",
       "\n",
       "    .dataframe tbody tr th {\n",
       "        vertical-align: top;\n",
       "    }\n",
       "\n",
       "    .dataframe thead th {\n",
       "        text-align: right;\n",
       "    }\n",
       "</style>\n",
       "<table border=\"1\" class=\"dataframe\">\n",
       "  <thead>\n",
       "    <tr style=\"text-align: right;\">\n",
       "      <th></th>\n",
       "      <th>Center Image</th>\n",
       "      <th>Left Image</th>\n",
       "      <th>Right Image</th>\n",
       "      <th>Steering</th>\n",
       "      <th>Throttle</th>\n",
       "      <th>Brake</th>\n",
       "      <th>Speed</th>\n",
       "    </tr>\n",
       "  </thead>\n",
       "  <tbody>\n",
       "    <tr>\n",
       "      <th>0</th>\n",
       "      <td>/home/sezan/Desktop/work/SelfDrivingCarND/data...</td>\n",
       "      <td>/home/sezan/Desktop/work/SelfDrivingCarND/data...</td>\n",
       "      <td>/home/sezan/Desktop/work/SelfDrivingCarND/data...</td>\n",
       "      <td>0.0</td>\n",
       "      <td>0.000000</td>\n",
       "      <td>0</td>\n",
       "      <td>9.892318</td>\n",
       "    </tr>\n",
       "    <tr>\n",
       "      <th>1</th>\n",
       "      <td>/home/sezan/Desktop/work/SelfDrivingCarND/data...</td>\n",
       "      <td>/home/sezan/Desktop/work/SelfDrivingCarND/data...</td>\n",
       "      <td>/home/sezan/Desktop/work/SelfDrivingCarND/data...</td>\n",
       "      <td>0.0</td>\n",
       "      <td>0.000000</td>\n",
       "      <td>0</td>\n",
       "      <td>9.811010</td>\n",
       "    </tr>\n",
       "    <tr>\n",
       "      <th>2</th>\n",
       "      <td>/home/sezan/Desktop/work/SelfDrivingCarND/data...</td>\n",
       "      <td>/home/sezan/Desktop/work/SelfDrivingCarND/data...</td>\n",
       "      <td>/home/sezan/Desktop/work/SelfDrivingCarND/data...</td>\n",
       "      <td>0.0</td>\n",
       "      <td>0.000000</td>\n",
       "      <td>0</td>\n",
       "      <td>9.750371</td>\n",
       "    </tr>\n",
       "    <tr>\n",
       "      <th>3</th>\n",
       "      <td>/home/sezan/Desktop/work/SelfDrivingCarND/data...</td>\n",
       "      <td>/home/sezan/Desktop/work/SelfDrivingCarND/data...</td>\n",
       "      <td>/home/sezan/Desktop/work/SelfDrivingCarND/data...</td>\n",
       "      <td>0.0</td>\n",
       "      <td>0.000000</td>\n",
       "      <td>0</td>\n",
       "      <td>9.670085</td>\n",
       "    </tr>\n",
       "    <tr>\n",
       "      <th>4</th>\n",
       "      <td>/home/sezan/Desktop/work/SelfDrivingCarND/data...</td>\n",
       "      <td>/home/sezan/Desktop/work/SelfDrivingCarND/data...</td>\n",
       "      <td>/home/sezan/Desktop/work/SelfDrivingCarND/data...</td>\n",
       "      <td>0.0</td>\n",
       "      <td>0.128493</td>\n",
       "      <td>0</td>\n",
       "      <td>9.627087</td>\n",
       "    </tr>\n",
       "  </tbody>\n",
       "</table>\n",
       "</div>"
      ],
      "text/plain": [
       "                                        Center Image  \\\n",
       "0  /home/sezan/Desktop/work/SelfDrivingCarND/data...   \n",
       "1  /home/sezan/Desktop/work/SelfDrivingCarND/data...   \n",
       "2  /home/sezan/Desktop/work/SelfDrivingCarND/data...   \n",
       "3  /home/sezan/Desktop/work/SelfDrivingCarND/data...   \n",
       "4  /home/sezan/Desktop/work/SelfDrivingCarND/data...   \n",
       "\n",
       "                                          Left Image  \\\n",
       "0  /home/sezan/Desktop/work/SelfDrivingCarND/data...   \n",
       "1  /home/sezan/Desktop/work/SelfDrivingCarND/data...   \n",
       "2  /home/sezan/Desktop/work/SelfDrivingCarND/data...   \n",
       "3  /home/sezan/Desktop/work/SelfDrivingCarND/data...   \n",
       "4  /home/sezan/Desktop/work/SelfDrivingCarND/data...   \n",
       "\n",
       "                                         Right Image  Steering  Throttle  \\\n",
       "0  /home/sezan/Desktop/work/SelfDrivingCarND/data...       0.0  0.000000   \n",
       "1  /home/sezan/Desktop/work/SelfDrivingCarND/data...       0.0  0.000000   \n",
       "2  /home/sezan/Desktop/work/SelfDrivingCarND/data...       0.0  0.000000   \n",
       "3  /home/sezan/Desktop/work/SelfDrivingCarND/data...       0.0  0.000000   \n",
       "4  /home/sezan/Desktop/work/SelfDrivingCarND/data...       0.0  0.128493   \n",
       "\n",
       "   Brake     Speed  \n",
       "0      0  9.892318  \n",
       "1      0  9.811010  \n",
       "2      0  9.750371  \n",
       "3      0  9.670085  \n",
       "4      0  9.627087  "
      ]
     },
     "execution_count": 9,
     "metadata": {},
     "output_type": "execute_result"
    }
   ],
   "source": [
    "normal_driving_log.head()"
   ]
  },
  {
   "cell_type": "code",
   "execution_count": 10,
   "metadata": {},
   "outputs": [
    {
     "data": {
      "text/plain": [
       "<AxesSubplot:>"
      ]
     },
     "execution_count": 10,
     "metadata": {},
     "output_type": "execute_result"
    },
    {
     "data": {
      "image/png": "[encoded data removed]",
      "text/plain": [
       "<Figure size 432x288 with 1 Axes>"
      ]
     },
     "metadata": {
      "needs_background": "light"
     },
     "output_type": "display_data"
    }
   ],
   "source": [
    "normal_driving_log[\"Steering\"].hist(bins=10)"
   ]
  },
  {
   "cell_type": "code",
   "execution_count": 11,
   "metadata": {},
   "outputs": [],
   "source": [
    "\n",
    "recovery_driving_log = pd.read_csv(os.path.join(recovery,\"driving_log.csv\"),names = names)"
   ]
  },
  {
   "cell_type": "code",
   "execution_count": 12,
   "metadata": {},
   "outputs": [
    {
     "data": {
      "text/html": [
       "<div>\n",
       "<style scoped>\n",
       "    .dataframe tbody tr th:only-of-type {\n",
       "        vertical-align: middle;\n",
       "    }\n",
       "\n",
       "    .dataframe tbody tr th {\n",
       "        vertical-align: top;\n",
       "    }\n",
       "\n",
       "    .dataframe thead th {\n",
       "        text-align: right;\n",
       "    }\n",
       "</style>\n",
       "<table border=\"1\" class=\"dataframe\">\n",
       "  <thead>\n",
       "    <tr style=\"text-align: right;\">\n",
       "      <th></th>\n",
       "      <th>Center Image</th>\n",
       "      <th>Left Image</th>\n",
       "      <th>Right Image</th>\n",
       "      <th>Steering</th>\n",
       "      <th>Throttle</th>\n",
       "      <th>Brake</th>\n",
       "      <th>Speed</th>\n",
       "    </tr>\n",
       "  </thead>\n",
       "  <tbody>\n",
       "    <tr>\n",
       "      <th>0</th>\n",
       "      <td>/home/sezan/Desktop/work/SelfDrivingCarND/data...</td>\n",
       "      <td>/home/sezan/Desktop/work/SelfDrivingCarND/data...</td>\n",
       "      <td>/home/sezan/Desktop/work/SelfDrivingCarND/data...</td>\n",
       "      <td>0.0</td>\n",
       "      <td>0.0</td>\n",
       "      <td>0.0</td>\n",
       "      <td>3.034396</td>\n",
       "    </tr>\n",
       "    <tr>\n",
       "      <th>1</th>\n",
       "      <td>/home/sezan/Desktop/work/SelfDrivingCarND/data...</td>\n",
       "      <td>/home/sezan/Desktop/work/SelfDrivingCarND/data...</td>\n",
       "      <td>/home/sezan/Desktop/work/SelfDrivingCarND/data...</td>\n",
       "      <td>0.0</td>\n",
       "      <td>0.0</td>\n",
       "      <td>0.0</td>\n",
       "      <td>3.011356</td>\n",
       "    </tr>\n",
       "    <tr>\n",
       "      <th>2</th>\n",
       "      <td>/home/sezan/Desktop/work/SelfDrivingCarND/data...</td>\n",
       "      <td>/home/sezan/Desktop/work/SelfDrivingCarND/data...</td>\n",
       "      <td>/home/sezan/Desktop/work/SelfDrivingCarND/data...</td>\n",
       "      <td>0.0</td>\n",
       "      <td>0.0</td>\n",
       "      <td>0.0</td>\n",
       "      <td>2.988503</td>\n",
       "    </tr>\n",
       "    <tr>\n",
       "      <th>3</th>\n",
       "      <td>/home/sezan/Desktop/work/SelfDrivingCarND/data...</td>\n",
       "      <td>/home/sezan/Desktop/work/SelfDrivingCarND/data...</td>\n",
       "      <td>/home/sezan/Desktop/work/SelfDrivingCarND/data...</td>\n",
       "      <td>0.0</td>\n",
       "      <td>0.0</td>\n",
       "      <td>0.0</td>\n",
       "      <td>2.971483</td>\n",
       "    </tr>\n",
       "    <tr>\n",
       "      <th>4</th>\n",
       "      <td>/home/sezan/Desktop/work/SelfDrivingCarND/data...</td>\n",
       "      <td>/home/sezan/Desktop/work/SelfDrivingCarND/data...</td>\n",
       "      <td>/home/sezan/Desktop/work/SelfDrivingCarND/data...</td>\n",
       "      <td>0.0</td>\n",
       "      <td>0.0</td>\n",
       "      <td>0.0</td>\n",
       "      <td>2.948949</td>\n",
       "    </tr>\n",
       "  </tbody>\n",
       "</table>\n",
       "</div>"
      ],
      "text/plain": [
       "                                        Center Image  \\\n",
       "0  /home/sezan/Desktop/work/SelfDrivingCarND/data...   \n",
       "1  /home/sezan/Desktop/work/SelfDrivingCarND/data...   \n",
       "2  /home/sezan/Desktop/work/SelfDrivingCarND/data...   \n",
       "3  /home/sezan/Desktop/work/SelfDrivingCarND/data...   \n",
       "4  /home/sezan/Desktop/work/SelfDrivingCarND/data...   \n",
       "\n",
       "                                          Left Image  \\\n",
       "0  /home/sezan/Desktop/work/SelfDrivingCarND/data...   \n",
       "1  /home/sezan/Desktop/work/SelfDrivingCarND/data...   \n",
       "2  /home/sezan/Desktop/work/SelfDrivingCarND/data...   \n",
       "3  /home/sezan/Desktop/work/SelfDrivingCarND/data...   \n",
       "4  /home/sezan/Desktop/work/SelfDrivingCarND/data...   \n",
       "\n",
       "                                         Right Image  Steering  Throttle  \\\n",
       "0  /home/sezan/Desktop/work/SelfDrivingCarND/data...       0.0       0.0   \n",
       "1  /home/sezan/Desktop/work/SelfDrivingCarND/data...       0.0       0.0   \n",
       "2  /home/sezan/Desktop/work/SelfDrivingCarND/data...       0.0       0.0   \n",
       "3  /home/sezan/Desktop/work/SelfDrivingCarND/data...       0.0       0.0   \n",
       "4  /home/sezan/Desktop/work/SelfDrivingCarND/data...       0.0       0.0   \n",
       "\n",
       "   Brake     Speed  \n",
       "0    0.0  3.034396  \n",
       "1    0.0  3.011356  \n",
       "2    0.0  2.988503  \n",
       "3    0.0  2.971483  \n",
       "4    0.0  2.948949  "
      ]
     },
     "execution_count": 12,
     "metadata": {},
     "output_type": "execute_result"
    }
   ],
   "source": [
    "recovery_driving_log.head()"
   ]
  },
  {
   "cell_type": "code",
   "execution_count": 13,
   "metadata": {},
   "outputs": [
    {
     "data": {
      "text/plain": [
       "<AxesSubplot:>"
      ]
     },
     "execution_count": 13,
     "metadata": {},
     "output_type": "execute_result"
    },
    {
     "data": {
      "image/png": "[encoded data removed]",
      "text/plain": [
       "<Figure size 432x288 with 1 Axes>"
      ]
     },
     "metadata": {
      "needs_background": "light"
     },
     "output_type": "display_data"
    }
   ],
   "source": [
    "recovery_driving_log[recovery_driving_log[\"Steering\"]!=0.0][\"Steering\"].hist()"
   ]
  },
  {
   "cell_type": "code",
   "execution_count": 14,
   "metadata": {},
   "outputs": [],
   "source": [
    "full_driving_log = pd.concat([normal_driving_log,recovery_driving_log])"
   ]
  },
  {
   "cell_type": "code",
   "execution_count": 15,
   "metadata": {},
   "outputs": [],
   "source": [
    "data = full_driving_log[[\"Center Image\",\"Steering\"]]"
   ]
  },
  {
   "cell_type": "code",
   "execution_count": 16,
   "metadata": {},
   "outputs": [
    {
     "data": {
      "text/html": [
       "<div>\n",
       "<style scoped>\n",
       "    .dataframe tbody tr th:only-of-type {\n",
       "        vertical-align: middle;\n",
       "    }\n",
       "\n",
       "    .dataframe tbody tr th {\n",
       "        vertical-align: top;\n",
       "    }\n",
       "\n",
       "    .dataframe thead th {\n",
       "        text-align: right;\n",
       "    }\n",
       "</style>\n",
       "<table border=\"1\" class=\"dataframe\">\n",
       "  <thead>\n",
       "    <tr style=\"text-align: right;\">\n",
       "      <th></th>\n",
       "      <th>Center Image</th>\n",
       "      <th>Steering</th>\n",
       "    </tr>\n",
       "  </thead>\n",
       "  <tbody>\n",
       "    <tr>\n",
       "      <th>0</th>\n",
       "      <td>/home/sezan/Desktop/work/SelfDrivingCarND/data...</td>\n",
       "      <td>0.0</td>\n",
       "    </tr>\n",
       "    <tr>\n",
       "      <th>1</th>\n",
       "      <td>/home/sezan/Desktop/work/SelfDrivingCarND/data...</td>\n",
       "      <td>0.0</td>\n",
       "    </tr>\n",
       "    <tr>\n",
       "      <th>2</th>\n",
       "      <td>/home/sezan/Desktop/work/SelfDrivingCarND/data...</td>\n",
       "      <td>0.0</td>\n",
       "    </tr>\n",
       "    <tr>\n",
       "      <th>3</th>\n",
       "      <td>/home/sezan/Desktop/work/SelfDrivingCarND/data...</td>\n",
       "      <td>0.0</td>\n",
       "    </tr>\n",
       "    <tr>\n",
       "      <th>4</th>\n",
       "      <td>/home/sezan/Desktop/work/SelfDrivingCarND/data...</td>\n",
       "      <td>0.0</td>\n",
       "    </tr>\n",
       "  </tbody>\n",
       "</table>\n",
       "</div>"
      ],
      "text/plain": [
       "                                        Center Image  Steering\n",
       "0  /home/sezan/Desktop/work/SelfDrivingCarND/data...       0.0\n",
       "1  /home/sezan/Desktop/work/SelfDrivingCarND/data...       0.0\n",
       "2  /home/sezan/Desktop/work/SelfDrivingCarND/data...       0.0\n",
       "3  /home/sezan/Desktop/work/SelfDrivingCarND/data...       0.0\n",
       "4  /home/sezan/Desktop/work/SelfDrivingCarND/data...       0.0"
      ]
     },
     "execution_count": 16,
     "metadata": {},
     "output_type": "execute_result"
    }
   ],
   "source": [
    "data.head()"
   ]
  },
  {
   "cell_type": "code",
   "execution_count": 18,
   "metadata": {},
   "outputs": [],
   "source": [
    "train,test =train_test_split(data)"
   ]
  },
  {
   "cell_type": "code",
   "execution_count": 19,
   "metadata": {},
   "outputs": [
    {
     "data": {
      "text/plain": [
       "<AxesSubplot:>"
      ]
     },
     "execution_count": 19,
     "metadata": {},
     "output_type": "execute_result"
    },
    {
     "data": {
      "image/png": "[encoded data removed]",
      "text/plain": [
       "<Figure size 432x288 with 1 Axes>"
      ]
     },
     "metadata": {
      "needs_background": "light"
     },
     "output_type": "display_data"
    }
   ],
   "source": [
    "train[\"Steering\"].hist()"
   ]
  },
  {
   "cell_type": "code",
   "execution_count": 20,
   "metadata": {},
   "outputs": [
    {
     "data": {
      "text/plain": [
       "<AxesSubplot:>"
      ]
     },
     "execution_count": 20,
     "metadata": {},
     "output_type": "execute_result"
    },
    {
     "data": {
      "image/png": "[encoded data removed]",
      "text/plain": [
       "<Figure size 432x288 with 1 Axes>"
      ]
     },
     "metadata": {
      "needs_background": "light"
     },
     "output_type": "display_data"
    }
   ],
   "source": [
    "test[\"Steering\"].hist()"
   ]
  },
  {
   "cell_type": "code",
   "execution_count": null,
   "metadata": {},
   "outputs": [],
   "source": []
  },
  {
   "cell_type": "code",
   "execution_count": 38,
   "metadata": {},
   "outputs": [],
   "source": [
    "def preprocess(images):\n",
    "    images = images[:,60:140,:]\n",
    "    images = images/255\n",
    "    return images"
   ]
  },
  {
   "cell_type": "code",
   "execution_count": 39,
   "metadata": {},
   "outputs": [],
   "source": [
    "def read_images(batch):\n",
    "    images = [None]*len(batch)\n",
    "    for i,image_name in enumerate(batch):\n",
    "        image = cv2.imread(image_name)\n",
    "        image = cv2.cvtColor(image,cv2.COLOR_BGR2RGB)\n",
    "        images[i] = image\n",
    "    images = np.array(images)\n",
    "    return preprocess(images)\n",
    "    "
   ]
  },
  {
   "cell_type": "code",
   "execution_count": 40,
   "metadata": {},
   "outputs": [],
   "source": [
    "def loader(data,batch_size):\n",
    "    for i in range(0,data.shape[0],batch_size):\n",
    "        batch = data.iloc[i:i+batch_size]\n",
    "        batch_image_names = batch[\"Center Image\"].values.tolist()\n",
    "        batch_images = read_images(batch_image_names)\n",
    "        if i%batch_size==0:\n",
    "            print(\"===DEBUG===\")\n",
    "            print(batch_images.shape)\n",
    "            print(\"===DEBUG===\")\n",
    "            yield batch_images\n",
    "            "
   ]
  },
  {
   "cell_type": "code",
   "execution_count": 41,
   "metadata": {},
   "outputs": [
    {
     "name": "stdout",
     "output_type": "stream",
     "text": [
      "===DEBUG===\n",
      "(32, 80, 320, 3)\n",
      "===DEBUG===\n",
      "(32, 80, 320, 3)\n"
     ]
    }
   ],
   "source": [
    "for images in loader(train,32):\n",
    "    print(images.shape)\n",
    "    break"
   ]
  },
  {
   "cell_type": "code",
   "execution_count": 42,
   "metadata": {},
   "outputs": [],
   "source": [
    "image = images[1]"
   ]
  },
  {
   "cell_type": "code",
   "execution_count": 43,
   "metadata": {},
   "outputs": [
    {
     "data": {
      "text/plain": [
       "(80, 320, 3)"
      ]
     },
     "execution_count": 43,
     "metadata": {},
     "output_type": "execute_result"
    }
   ],
   "source": [
    "image.shape"
   ]
  },
  {
   "cell_type": "code",
   "execution_count": 46,
   "metadata": {},
   "outputs": [
    {
     "data": {
      "image/png": "[encoded data removed]",
      "text/plain": [
       "<Figure size 432x288 with 1 Axes>"
      ]
     },
     "metadata": {
      "needs_background": "light"
     },
     "output_type": "display_data"
    }
   ],
   "source": [
    "plt.imshow(image)\n",
    "plt.grid()"
   ]
  },
  {
   "cell_type": "code",
   "execution_count": 47,
   "metadata": {},
   "outputs": [],
   "source": [
    "from keras.models import Sequential"
   ]
  },
  {
   "cell_type": "code",
   "execution_count": 48,
   "metadata": {},
   "outputs": [],
   "source": [
    "from keras import layers"
   ]
  },
  {
   "cell_type": "code",
   "execution_count": 49,
   "metadata": {},
   "outputs": [
    {
     "name": "stdout",
     "output_type": "stream",
     "text": [
      "WARNING:tensorflow:From /home/sezan/anaconda3/envs/tf1.14/lib/python3.6/site-packages/keras/backend/tensorflow_backend.py:58: The name tf.get_default_graph is deprecated. Please use tf.compat.v1.get_default_graph instead.\n",
      "\n"
     ]
    }
   ],
   "source": [
    "model = Sequential()"
   ]
  },
  {
   "cell_type": "code",
   "execution_count": 51,
   "metadata": {},
   "outputs": [
    {
     "name": "stdout",
     "output_type": "stream",
     "text": [
      "WARNING:tensorflow:From /home/sezan/anaconda3/envs/tf1.14/lib/python3.6/site-packages/keras/backend/tensorflow_backend.py:442: The name tf.placeholder is deprecated. Please use tf.compat.v1.placeholder instead.\n",
      "\n",
      "WARNING:tensorflow:From /home/sezan/anaconda3/envs/tf1.14/lib/python3.6/site-packages/keras/backend/tensorflow_backend.py:3543: The name tf.random_uniform is deprecated. Please use tf.random.uniform instead.\n",
      "\n"
     ]
    }
   ],
   "source": [
    "model.add(layers.Conv2D(32, (3, 3), activation='relu', input_shape=(80, 320, 3)))\n",
    "# model.add(layers.MaxPooling2D((2, 2)))\n",
    "# model.add(layers.Conv2D(64, (3, 3), activation='relu'))\n",
    "# model.add(layers.MaxPooling2D((2, 2)))\n",
    "# model.add(layers.Conv2D(64, (3, 3), activation='relu'))\n"
   ]
  },
  {
   "cell_type": "code",
   "execution_count": 52,
   "metadata": {},
   "outputs": [
    {
     "name": "stdout",
     "output_type": "stream",
     "text": [
      "_________________________________________________________________\n",
      "Layer (type)                 Output Shape              Param #   \n",
      "=================================================================\n",
      "conv2d_1 (Conv2D)            (None, 78, 318, 32)       896       \n",
      "=================================================================\n",
      "Total params: 896\n",
      "Trainable params: 896\n",
      "Non-trainable params: 0\n",
      "_________________________________________________________________\n"
     ]
    }
   ],
   "source": [
    "model.summary()"
   ]
  },
  {
   "cell_type": "code",
   "execution_count": null,
   "metadata": {},
   "outputs": [],
   "source": []
  }
 ],
 "metadata": {
  "kernelspec": {
   "display_name": "tf1.14",
   "language": "python",
   "name": "tf1.14"
  },
  "language_info": {
   "codemirror_mode": {
    "name": "ipython",
    "version": 3
   },
   "file_extension": ".py",
   "mimetype": "text/x-python",
   "name": "python",
   "nbconvert_exporter": "python",
   "pygments_lexer": "ipython3",
   "version": "3.6.12"
  }
 },
 "nbformat": 4,
 "nbformat_minor": 4
}
